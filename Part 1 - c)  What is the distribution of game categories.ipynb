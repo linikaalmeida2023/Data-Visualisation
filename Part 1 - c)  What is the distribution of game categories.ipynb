{
 "cells": [
  {
   "cell_type": "markdown",
   "id": "a30319a2",
   "metadata": {},
   "source": [
    "#### c) What is the distribution of game categories?"
   ]
  },
  {
   "cell_type": "code",
   "execution_count": null,
   "id": "ba7ea365",
   "metadata": {},
   "outputs": [],
   "source": [
    "#Show the category in this dataset\n",
    "df.category"
   ]
  },
  {
   "cell_type": "code",
   "execution_count": null,
   "id": "79646bc3",
   "metadata": {},
   "outputs": [],
   "source": [
    "# Assuming 'category' is the column containing game categories\n",
    "unique_categories_count = df['category'].nunique()\n",
    "\n",
    "print(f'Total number of unique categories: {unique_categories_count}')"
   ]
  },
  {
   "cell_type": "code",
   "execution_count": null,
   "id": "1ce993e8",
   "metadata": {},
   "outputs": [],
   "source": [
    "# Get unique names within the 'category' column\n",
    "unique_names = df['category'].unique()\n",
    "\n",
    "# Print all the unique names in the 'category' column\n",
    "for name in unique_names:\n",
    "print(name)"
   ]
  },
  {
   "cell_type": "code",
   "execution_count": null,
   "id": "ec1ecdda",
   "metadata": {},
   "outputs": [],
   "source": [
    "# Group the DataFrame by the 'category' column and count the occurrences\n",
    "name_counts = df['category'].value_counts().reset_index()\n",
    "\n",
    "# Rename the columns for clarity\n",
    "name_counts.columns = ['category', 'Count']\n",
    "\n",
    "# Display the table\n",
    "print(name_counts)"
   ]
  },
  {
   "cell_type": "code",
   "execution_count": null,
   "id": "ab083a4c",
   "metadata": {},
   "outputs": [],
   "source": [
    "# Group the DataFrame by the 'category' column and count the occurrences\n",
    "name_counts = df['category'].value_counts().reset_index()\n",
    "\n",
    "# Rename the columns for clarity\n",
    "name_counts.columns = ['category', 'Count']\n",
    "\n",
    "# Sort the table by 'Count' in descending order\n",
    "name_counts = name_counts.sort_values(by='Count', ascending=False)\n",
    "\n",
    "# Display the top 10 names and their counts\n",
    "top_10_names = name_counts.head(20)\n",
    "print(top_10_names)"
   ]
  },
  {
   "cell_type": "markdown",
   "id": "9b786168",
   "metadata": {},
   "source": [
    "In this step the Treeplot will be created to show the games categories"
   ]
  },
  {
   "cell_type": "code",
   "execution_count": null,
   "id": "2c1e0529",
   "metadata": {},
   "outputs": [],
   "source": [
    "#Create a Treeplot to represent the game categories\n",
    "\n",
    "# Choose an accessible color palette\n",
    "colors = px.colors.qualitative.Set3\n",
    "\n",
    "# Create a Treemap with Plotly Express\n",
    "fig = px.treemap(top_10_names, path=['category'], values='Count', color_discrete_sequence=colors)\n",
    "\n",
    "# Customize the title \n",
    "fig.update_layout(title_text='TOP 10 GAME CATEGORIES (TREEMAP)', title_font=dict(family='Arial', size=14), title_x=0.5  \n",
    "                  \n",
    "# Customize the text\n",
    "fig.update_layout(font=dict(family='Arial', size=14))\n",
    "\n",
    "# Show the Treemap\n",
    "fig.show()"
   ]
  },
  {
   "cell_type": "markdown",
   "id": "c9141437",
   "metadata": {},
   "source": [
    "#### • Method to engineer the data:"
   ]
  },
  {
   "cell_type": "markdown",
   "id": "e3c3faf4",
   "metadata": {},
   "source": [
    "Hierarchical data are efficiently communicated with this treemap, where categories are arranged into tiers based on the top 10. The method for engineering this data involved importing the Plotly Express library with the alias 'px'. A great option for treemaps is Plotly Express, a flexible Python package for building interactive visualizations.\n",
    "\n",
    "The 'px.colors.qualitative' group of colors was used to create the color scheme. Using the function 'px.treemap' to construct the visualization, the next step was to create the Treemap.\n",
    "\n",
    "The following are the important criteria:\n",
    "\n",
    "Top_10_names: This represents the data source and should be changed with your actual DataFrame containing the top 10 categories and their numbers.\n",
    "\n",
    "Path= 'category': The path argument specifies the column(s) that correspond to the levels in the treemap, which establishes the hierarchy. Category here refers to the category column.\n",
    "\n",
    "The option values=Count specifies the values for each category, which correspond to the number of games in that category.\n",
    "\n",
    "Color_discrete_sequence=colors: The selected color scheme is used to represent various categories."
   ]
  },
  {
   "cell_type": "markdown",
   "id": "fd9c6948",
   "metadata": {},
   "source": [
    "#### • Visualizations:"
   ]
  },
  {
   "cell_type": "markdown",
   "id": "6f83ac3f",
   "metadata": {},
   "source": [
    "The top 10 game genres are represented by a treemap visualization, which was chosen for being ideal for displaying hierarchical data, where game categories are organized hierarchical and the spectators can see how each category contributes to the overall experience.\n",
    "\n",
    "It is also use the scape effectivelly with each category depicted as a rectangular block, treemaps make efficient use of space by separating the visualization into rectangles. When dealing with a big number of categories, this arrangement is helpful.\n",
    "\n",
    "It allow to compare categories once it is simple to assess how large certain categories are.\n",
    "\n",
    "Treemap has a color coding that can be used to encode additional information, such metrics or category numbers. Viewers can more easily recognize patterns and variances by using a color scheme that separates across categories.\n",
    "\n",
    "This graphy is great to foccus the Top 10 game categories, there is option for exhibiting the top 10 game categories because they excel at presenting a small number of categories.\n",
    "\n",
    "In conclusion, the treemap was chosen because it effectively represents hierarchical data, allows for category comparisons, and offers interactivity and aesthetic appeal. It is a good option for showing the distribution of the top 10 game categories because of these features."
   ]
  },
  {
   "cell_type": "markdown",
   "id": "3516be21",
   "metadata": {},
   "source": [
    "#### • Design decisions (colour, font, titles, size, text position, font size etc) :"
   ]
  },
  {
   "cell_type": "markdown",
   "id": "85a0a431",
   "metadata": {},
   "source": [
    "The design decisions for the treemap visualization created a clear, aesthetically pleasing, and informative representation of the top 10 game categories.\n",
    "\n",
    "Color: From the available color schemes offered by Plotly Express, \"Set3,\" a high-quality color palette, was chosen. Each category's colors are distinct and simple to distinguish in this palette. The choice of a color scheme was crucial for properly separating categories.\n",
    "\n",
    "Font Family: Arial was selected as the type of font because it is readable and guarantees that the content is understandable and simple to read.\n",
    "\n",
    "Formatting: The title was given a larger font size of 14. It makes the purpose of the graphic abundantly clear.\n",
    "\n",
    "Title Alignment: The treemap's title was positioned in the center. The depiction is more visually balanced and appealing as a result of the title's centering.\n",
    "\n",
    "The remaining text is in the Arial font, size 12. The visualization is uniform and readable thanks to the constant text size.\n",
    "\n",
    "Positioning of Text: The category labels and count values were automatically positioned within the treemap's rectangles, ensuring they are contained and legible. The automatic placement optimizes space and minimizes overlap.\n",
    "\n",
    "This graphic design choices were made with the intention of producing a treemap that is both aesthetically pleasing and educational and that accurately depicts the distribution of the top 10 gaming categories. A balanced and captivating representation is made possible by the color scheme, font family, title style, and intelligent text positioning."
   ]
  },
  {
   "cell_type": "code",
   "execution_count": null,
   "id": "5aee9cc6",
   "metadata": {},
   "outputs": [],
   "source": []
  }
 ],
 "metadata": {
  "kernelspec": {
   "display_name": "Python 3 (ipykernel)",
   "language": "python",
   "name": "python3"
  },
  "language_info": {
   "codemirror_mode": {
    "name": "ipython",
    "version": 3
   },
   "file_extension": ".py",
   "mimetype": "text/x-python",
   "name": "python",
   "nbconvert_exporter": "python",
   "pygments_lexer": "ipython3",
   "version": "3.9.13"
  }
 },
 "nbformat": 4,
 "nbformat_minor": 5
}
