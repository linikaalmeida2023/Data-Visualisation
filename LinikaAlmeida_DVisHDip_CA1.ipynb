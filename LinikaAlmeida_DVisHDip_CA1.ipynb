{
 "cells": [
  {
   "cell_type": "markdown",
   "id": "14c3b029",
   "metadata": {},
   "source": [
    "# CA1 Data Visualization Higher Diplome Lvl8  \n",
    "\n",
    "### Student - Linika Almeida, ID - 2023045"
   ]
  },
  {
   "cell_type": "markdown",
   "id": "bb5d14e6",
   "metadata": {},
   "source": [
    "### Institution - CCT College\n",
    "\n",
    "Description: This project is part of the HDIP Data Analytics course for the module of Data Visualization Techniques and implements a analyse based on a Board Game dataset."
   ]
  },
  {
   "cell_type": "markdown",
   "id": "d27ba797",
   "metadata": {},
   "source": [
    "### Importing Libraries"
   ]
  },
  {
   "cell_type": "code",
   "execution_count": 376,
   "id": "42352c7d",
   "metadata": {},
   "outputs": [],
   "source": [
    "import warnings\n",
    "warnings.filterwarnings('ignore')\n",
    "\n",
    "#Import libraries\n",
    "import pandas as pd\n",
    "import numpy as np\n",
    "import seaborn as sns\n",
    "import matplotlib.pyplot as plt\n",
    "import plotly.express as px\n",
    "import scipy.stats as stats"
   ]
  },
  {
   "cell_type": "code",
   "execution_count": 377,
   "id": "61a7c7b9",
   "metadata": {},
   "outputs": [],
   "source": [
    "#Open dataset\n",
    "df = pd.read_csv('board_games.csv')"
   ]
  },
  {
   "cell_type": "markdown",
   "id": "788dc35f",
   "metadata": {},
   "source": [
    "### Data Description"
   ]
  },
  {
   "cell_type": "markdown",
   "id": "c2d48427",
   "metadata": {},
   "source": [
    "You have been retained by a retail company to analyse a dataset based on board games. This analysis will help determine the sales strategy for the company in their upcoming Winter season.   \n",
    "  \n",
    "The companies CTO also requires you to rationalize all the decisions that you have made in your report.   \n",
    "  \n",
    "This rationalization MUST include your visualization design decisions, how you have engineered the data, feature selection and any other information that you deem relevant.   "
   ]
  },
  {
   "cell_type": "markdown",
   "id": "3a2b0812",
   "metadata": {},
   "source": [
    "### Exploratory Data Analyse"
   ]
  },
  {
   "cell_type": "markdown",
   "id": "5e262df2",
   "metadata": {},
   "source": [
    "In the EDA I will do some assumptions, do a comprehension of the dataset and check missing values"
   ]
  },
  {
   "cell_type": "code",
   "execution_count": 378,
   "id": "7233301d",
   "metadata": {},
   "outputs": [
    {
     "data": {
      "text/html": [
       "<div>\n",
       "<style scoped>\n",
       "    .dataframe tbody tr th:only-of-type {\n",
       "        vertical-align: middle;\n",
       "    }\n",
       "\n",
       "    .dataframe tbody tr th {\n",
       "        vertical-align: top;\n",
       "    }\n",
       "\n",
       "    .dataframe thead th {\n",
       "        text-align: right;\n",
       "    }\n",
       "</style>\n",
       "<table border=\"1\" class=\"dataframe\">\n",
       "  <thead>\n",
       "    <tr style=\"text-align: right;\">\n",
       "      <th></th>\n",
       "      <th>game_id</th>\n",
       "      <th>description</th>\n",
       "      <th>image</th>\n",
       "      <th>max_players</th>\n",
       "      <th>max_playtime</th>\n",
       "      <th>min_age</th>\n",
       "      <th>min_players</th>\n",
       "      <th>min_playtime</th>\n",
       "      <th>name</th>\n",
       "      <th>playing_time</th>\n",
       "      <th>...</th>\n",
       "      <th>artist</th>\n",
       "      <th>category</th>\n",
       "      <th>compilation</th>\n",
       "      <th>designer</th>\n",
       "      <th>expansion</th>\n",
       "      <th>family</th>\n",
       "      <th>mechanic</th>\n",
       "      <th>publisher</th>\n",
       "      <th>average_rating</th>\n",
       "      <th>users_rated</th>\n",
       "    </tr>\n",
       "  </thead>\n",
       "  <tbody>\n",
       "    <tr>\n",
       "      <th>0</th>\n",
       "      <td>1</td>\n",
       "      <td>Die Macher is a game about seven sequential po...</td>\n",
       "      <td>//cf.geekdo-images.com/images/pic159509.jpg</td>\n",
       "      <td>5</td>\n",
       "      <td>240</td>\n",
       "      <td>14</td>\n",
       "      <td>3</td>\n",
       "      <td>240</td>\n",
       "      <td>Die Macher</td>\n",
       "      <td>240</td>\n",
       "      <td>...</td>\n",
       "      <td>Marcus Gschwendtner</td>\n",
       "      <td>Economic,Negotiation,Political</td>\n",
       "      <td>NaN</td>\n",
       "      <td>Karl-Heinz Schmiel</td>\n",
       "      <td>NaN</td>\n",
       "      <td>Country: Germany,Valley Games Classic Line</td>\n",
       "      <td>Area Control / Area Influence,Auction/Bidding,...</td>\n",
       "      <td>Hans im Glück Verlags-GmbH,Moskito Spiele,Vall...</td>\n",
       "      <td>7.66508</td>\n",
       "      <td>4498</td>\n",
       "    </tr>\n",
       "    <tr>\n",
       "      <th>1</th>\n",
       "      <td>2</td>\n",
       "      <td>Dragonmaster is a trick-taking card game based...</td>\n",
       "      <td>//cf.geekdo-images.com/images/pic184174.jpg</td>\n",
       "      <td>4</td>\n",
       "      <td>30</td>\n",
       "      <td>12</td>\n",
       "      <td>3</td>\n",
       "      <td>30</td>\n",
       "      <td>Dragonmaster</td>\n",
       "      <td>30</td>\n",
       "      <td>...</td>\n",
       "      <td>Bob Pepper</td>\n",
       "      <td>Card Game,Fantasy</td>\n",
       "      <td>NaN</td>\n",
       "      <td>G. W. \"Jerry\" D'Arcey</td>\n",
       "      <td>NaN</td>\n",
       "      <td>Animals: Dragons</td>\n",
       "      <td>Trick-taking</td>\n",
       "      <td>E.S. Lowe,Milton Bradley</td>\n",
       "      <td>6.60815</td>\n",
       "      <td>478</td>\n",
       "    </tr>\n",
       "    <tr>\n",
       "      <th>2</th>\n",
       "      <td>3</td>\n",
       "      <td>Part of the Knizia tile-laying trilogy, Samura...</td>\n",
       "      <td>//cf.geekdo-images.com/images/pic3211873.jpg</td>\n",
       "      <td>4</td>\n",
       "      <td>60</td>\n",
       "      <td>10</td>\n",
       "      <td>2</td>\n",
       "      <td>30</td>\n",
       "      <td>Samurai</td>\n",
       "      <td>60</td>\n",
       "      <td>...</td>\n",
       "      <td>Franz Vohwinkel</td>\n",
       "      <td>Abstract Strategy,Medieval</td>\n",
       "      <td>NaN</td>\n",
       "      <td>Reiner Knizia</td>\n",
       "      <td>NaN</td>\n",
       "      <td>Asian Theme,Country: Japan,Knizia tile-laying ...</td>\n",
       "      <td>Area Control / Area Influence,Hand Management,...</td>\n",
       "      <td>999 Games,ABACUSSPIELE,Astrel Games,Ceilikan J...</td>\n",
       "      <td>7.44119</td>\n",
       "      <td>12019</td>\n",
       "    </tr>\n",
       "    <tr>\n",
       "      <th>3</th>\n",
       "      <td>4</td>\n",
       "      <td>When you see the triangular box and the luxuri...</td>\n",
       "      <td>//cf.geekdo-images.com/images/pic285299.jpg</td>\n",
       "      <td>4</td>\n",
       "      <td>60</td>\n",
       "      <td>12</td>\n",
       "      <td>2</td>\n",
       "      <td>60</td>\n",
       "      <td>Tal der Könige</td>\n",
       "      <td>60</td>\n",
       "      <td>...</td>\n",
       "      <td>NaN</td>\n",
       "      <td>Ancient</td>\n",
       "      <td>NaN</td>\n",
       "      <td>Christian Beierer</td>\n",
       "      <td>NaN</td>\n",
       "      <td>Country: Egypt,Promotional Board Games</td>\n",
       "      <td>Action Point Allowance System,Area Control / A...</td>\n",
       "      <td>KOSMOS</td>\n",
       "      <td>6.60675</td>\n",
       "      <td>314</td>\n",
       "    </tr>\n",
       "    <tr>\n",
       "      <th>4</th>\n",
       "      <td>5</td>\n",
       "      <td>In Acquire, each player strategically invests ...</td>\n",
       "      <td>//cf.geekdo-images.com/images/pic342163.jpg</td>\n",
       "      <td>6</td>\n",
       "      <td>90</td>\n",
       "      <td>12</td>\n",
       "      <td>3</td>\n",
       "      <td>90</td>\n",
       "      <td>Acquire</td>\n",
       "      <td>90</td>\n",
       "      <td>...</td>\n",
       "      <td>Scott Okumura,Peter Whitley</td>\n",
       "      <td>Economic</td>\n",
       "      <td>NaN</td>\n",
       "      <td>Sid Sackson</td>\n",
       "      <td>NaN</td>\n",
       "      <td>3M Bookshelf Series</td>\n",
       "      <td>Hand Management,Stock Holding,Tile Placement</td>\n",
       "      <td>3M,Avalon Hill,Avalon Hill (Hasbro),Dujardin,G...</td>\n",
       "      <td>7.35830</td>\n",
       "      <td>15195</td>\n",
       "    </tr>\n",
       "  </tbody>\n",
       "</table>\n",
       "<p>5 rows × 22 columns</p>\n",
       "</div>"
      ],
      "text/plain": [
       "   game_id                                        description  \\\n",
       "0        1  Die Macher is a game about seven sequential po...   \n",
       "1        2  Dragonmaster is a trick-taking card game based...   \n",
       "2        3  Part of the Knizia tile-laying trilogy, Samura...   \n",
       "3        4  When you see the triangular box and the luxuri...   \n",
       "4        5  In Acquire, each player strategically invests ...   \n",
       "\n",
       "                                          image  max_players  max_playtime  \\\n",
       "0   //cf.geekdo-images.com/images/pic159509.jpg            5           240   \n",
       "1   //cf.geekdo-images.com/images/pic184174.jpg            4            30   \n",
       "2  //cf.geekdo-images.com/images/pic3211873.jpg            4            60   \n",
       "3   //cf.geekdo-images.com/images/pic285299.jpg            4            60   \n",
       "4   //cf.geekdo-images.com/images/pic342163.jpg            6            90   \n",
       "\n",
       "   min_age  min_players  min_playtime            name  playing_time  ...  \\\n",
       "0       14            3           240      Die Macher           240  ...   \n",
       "1       12            3            30    Dragonmaster            30  ...   \n",
       "2       10            2            30         Samurai            60  ...   \n",
       "3       12            2            60  Tal der Könige            60  ...   \n",
       "4       12            3            90         Acquire            90  ...   \n",
       "\n",
       "                        artist                        category compilation  \\\n",
       "0          Marcus Gschwendtner  Economic,Negotiation,Political         NaN   \n",
       "1                   Bob Pepper               Card Game,Fantasy         NaN   \n",
       "2              Franz Vohwinkel      Abstract Strategy,Medieval         NaN   \n",
       "3                          NaN                         Ancient         NaN   \n",
       "4  Scott Okumura,Peter Whitley                        Economic         NaN   \n",
       "\n",
       "                designer expansion  \\\n",
       "0     Karl-Heinz Schmiel       NaN   \n",
       "1  G. W. \"Jerry\" D'Arcey       NaN   \n",
       "2          Reiner Knizia       NaN   \n",
       "3      Christian Beierer       NaN   \n",
       "4            Sid Sackson       NaN   \n",
       "\n",
       "                                              family  \\\n",
       "0         Country: Germany,Valley Games Classic Line   \n",
       "1                                   Animals: Dragons   \n",
       "2  Asian Theme,Country: Japan,Knizia tile-laying ...   \n",
       "3             Country: Egypt,Promotional Board Games   \n",
       "4                                3M Bookshelf Series   \n",
       "\n",
       "                                            mechanic  \\\n",
       "0  Area Control / Area Influence,Auction/Bidding,...   \n",
       "1                                       Trick-taking   \n",
       "2  Area Control / Area Influence,Hand Management,...   \n",
       "3  Action Point Allowance System,Area Control / A...   \n",
       "4       Hand Management,Stock Holding,Tile Placement   \n",
       "\n",
       "                                           publisher average_rating  \\\n",
       "0  Hans im Glück Verlags-GmbH,Moskito Spiele,Vall...        7.66508   \n",
       "1                           E.S. Lowe,Milton Bradley        6.60815   \n",
       "2  999 Games,ABACUSSPIELE,Astrel Games,Ceilikan J...        7.44119   \n",
       "3                                             KOSMOS        6.60675   \n",
       "4  3M,Avalon Hill,Avalon Hill (Hasbro),Dujardin,G...        7.35830   \n",
       "\n",
       "  users_rated  \n",
       "0        4498  \n",
       "1         478  \n",
       "2       12019  \n",
       "3         314  \n",
       "4       15195  \n",
       "\n",
       "[5 rows x 22 columns]"
      ]
     },
     "execution_count": 378,
     "metadata": {},
     "output_type": "execute_result"
    }
   ],
   "source": [
    "#Show data head\n",
    "df.head()"
   ]
  },
  {
   "cell_type": "markdown",
   "id": "b37e9022",
   "metadata": {},
   "source": [
    "Lets check some information in this dataset"
   ]
  },
  {
   "cell_type": "code",
   "execution_count": 379,
   "id": "bfd4e145",
   "metadata": {},
   "outputs": [
    {
     "name": "stdout",
     "output_type": "stream",
     "text": [
      "<class 'pandas.core.frame.DataFrame'>\n",
      "RangeIndex: 10532 entries, 0 to 10531\n",
      "Data columns (total 22 columns):\n",
      " #   Column          Non-Null Count  Dtype  \n",
      "---  ------          --------------  -----  \n",
      " 0   game_id         10532 non-null  int64  \n",
      " 1   description     10532 non-null  object \n",
      " 2   image           10531 non-null  object \n",
      " 3   max_players     10532 non-null  int64  \n",
      " 4   max_playtime    10532 non-null  int64  \n",
      " 5   min_age         10532 non-null  int64  \n",
      " 6   min_players     10532 non-null  int64  \n",
      " 7   min_playtime    10532 non-null  int64  \n",
      " 8   name            10532 non-null  object \n",
      " 9   playing_time    10532 non-null  int64  \n",
      " 10  thumbnail       10531 non-null  object \n",
      " 11  year_published  10532 non-null  int64  \n",
      " 12  artist          7759 non-null   object \n",
      " 13  category        10438 non-null  object \n",
      " 14  compilation     410 non-null    object \n",
      " 15  designer        10406 non-null  object \n",
      " 16  expansion       2752 non-null   object \n",
      " 17  family          7724 non-null   object \n",
      " 18  mechanic        9582 non-null   object \n",
      " 19  publisher       10529 non-null  object \n",
      " 20  average_rating  10532 non-null  float64\n",
      " 21  users_rated     10532 non-null  int64  \n",
      "dtypes: float64(1), int64(9), object(12)\n",
      "memory usage: 1.8+ MB\n"
     ]
    }
   ],
   "source": [
    "#Show details about the dataset\n",
    "df.info()"
   ]
  },
  {
   "cell_type": "markdown",
   "id": "d5b14319",
   "metadata": {},
   "source": [
    "From this output, we can see that the DataFrame has 10532 rows (entries) and 22 columns. The columns have different data types, including int64, float64, and object. "
   ]
  },
  {
   "cell_type": "markdown",
   "id": "519713d2",
   "metadata": {},
   "source": [
    "Some features detected in data head are not relevant for the purpose of this analyse so they will be deleated, \n",
    "and they also contain NuN values. So for that reasons the follow feautures are going to be deleted: image, \n",
    "thumbnail, artist, compilation, expantion, publisher"
   ]
  },
  {
   "cell_type": "code",
   "execution_count": 380,
   "id": "9ce28f45",
   "metadata": {},
   "outputs": [],
   "source": [
    "# Drop columns that are not relevant for the analyse\n",
    "df.drop(['image', 'thumbnail', 'artist', 'compilation', 'designer', 'expansion', 'family', 'publisher'], axis=1, inplace=True)"
   ]
  },
  {
   "cell_type": "markdown",
   "id": "5e90bfe9",
   "metadata": {},
   "source": [
    "Checkinh the type of data we have in this dataset"
   ]
  },
  {
   "cell_type": "code",
   "execution_count": 381,
   "id": "5a9d1c2d",
   "metadata": {},
   "outputs": [
    {
     "data": {
      "text/plain": [
       "int64      9\n",
       "object     4\n",
       "float64    1\n",
       "dtype: int64"
      ]
     },
     "execution_count": 381,
     "metadata": {},
     "output_type": "execute_result"
    }
   ],
   "source": [
    "#Describe the type of data\n",
    "df.dtypes.value_counts()"
   ]
  },
  {
   "cell_type": "markdown",
   "id": "3e176ebb",
   "metadata": {},
   "source": [
    "The dtype shows four features are object: ‘description’, ‘name’, ‘category’ and 'mechanic'. It is more appropriate convert them from an object to a category"
   ]
  },
  {
   "cell_type": "code",
   "execution_count": 382,
   "id": "2d4a94d3",
   "metadata": {},
   "outputs": [],
   "source": [
    "# Convert object type for categorical features\n",
    "df['description'] = df['description'].astype('category')\n",
    "df['name'] = df['name'].astype('category')\n",
    "df['category'] = df['category'].astype('category')\n",
    "df['mechanic'] = df['mechanic'].astype('category')"
   ]
  },
  {
   "cell_type": "markdown",
   "id": "2b794afd",
   "metadata": {},
   "source": [
    "#### Cleaning dataset"
   ]
  },
  {
   "cell_type": "markdown",
   "id": "c4e6dbf0",
   "metadata": {},
   "source": [
    "I am going to check the mising values in this dataset, once it can cause problem in the analyse, such a biased result, incorrect statistial inferences and error in machine learning models."
   ]
  },
  {
   "cell_type": "code",
   "execution_count": 383,
   "id": "19ff7ac9",
   "metadata": {},
   "outputs": [
    {
     "data": {
      "text/plain": [
       "game_id             0\n",
       "description         0\n",
       "max_players         0\n",
       "max_playtime        0\n",
       "min_age             0\n",
       "min_players         0\n",
       "min_playtime        0\n",
       "name                0\n",
       "playing_time        0\n",
       "year_published      0\n",
       "category           94\n",
       "mechanic          950\n",
       "average_rating      0\n",
       "users_rated         0\n",
       "dtype: int64"
      ]
     },
     "execution_count": 383,
     "metadata": {},
     "output_type": "execute_result"
    }
   ],
   "source": [
    "# Check missing values\n",
    "df.isnull().sum()"
   ]
  },
  {
   "cell_type": "markdown",
   "id": "35abacb2",
   "metadata": {},
   "source": [
    "The features 'category' and 'mechanic' have missing values, both are categorical variables "
   ]
  },
  {
   "cell_type": "code",
   "execution_count": 384,
   "id": "5c80bb3d",
   "metadata": {},
   "outputs": [
    {
     "name": "stdout",
     "output_type": "stream",
     "text": [
      "       game_id                                        description  \\\n",
      "23          25  In this fantasy sequel to Twilight Imperium, p...   \n",
      "30          32  In Bison, a.k.a. Buffalo, one player represent...   \n",
      "33          37  This odd little game put out by Games Workshop...   \n",
      "34          38  Runes is a different kind of word game where p...   \n",
      "35          39  Based on the books of Marion Zimmer Bradley th...   \n",
      "...        ...                                                ...   \n",
      "10496   206940  In Carcassonne: Amazonas, players sail their b...   \n",
      "10509   208766  Description from the publisher:&#10;&#10;The c...   \n",
      "10518   209886  Gambling continues in the glamorous world of L...   \n",
      "10520   210342  Timeline: British History is a card game playe...   \n",
      "10523   212382  In Yangtze, players are distributors on the Ya...   \n",
      "\n",
      "       max_players  max_playtime  min_age  min_players  min_playtime  \\\n",
      "23               6           200       12            2           200   \n",
      "30               2            30        8            2            30   \n",
      "33               4           120       12            2           120   \n",
      "34               4            30       10            2            30   \n",
      "35               4            60       12            2            60   \n",
      "...            ...           ...      ...          ...           ...   \n",
      "10496            5            35        8            2            35   \n",
      "10509            6            30        8            2            30   \n",
      "10518            5            30        8            2            15   \n",
      "10520            8            30        8            2            15   \n",
      "10523            4            60        8            2            60   \n",
      "\n",
      "                            name  playing_time  year_published  \\\n",
      "23                    Battlemist           200            1998   \n",
      "30                         Bison            30            1975   \n",
      "33                Dragon Masters           120            1991   \n",
      "34                         Runes            30            1981   \n",
      "35                      Darkover            60            1979   \n",
      "...                          ...           ...             ...   \n",
      "10496      Carcassonne: Amazonas            35            2016   \n",
      "10509                   13 Clues            30            2016   \n",
      "10518   Las Vegas: The Card Game            30            2016   \n",
      "10520  Timeline: British History            30            2016   \n",
      "10523                    Yangtze            60            2016   \n",
      "\n",
      "                              category                        mechanic  \\\n",
      "23         Exploration,Fantasy,Wargame                             NaN   \n",
      "30     Abstract Strategy,American West                             NaN   \n",
      "33                     Fantasy,Wargame                             NaN   \n",
      "34                 Deduction,Word Game                             NaN   \n",
      "35        Bluffing,Fantasy,Novel-based                             NaN   \n",
      "...                                ...                             ...   \n",
      "10496                              NaN                  Tile Placement   \n",
      "10509                        Deduction                             NaN   \n",
      "10518                        Card Game                             NaN   \n",
      "10520                        Card Game                             NaN   \n",
      "10523                              NaN  Auction/Bidding,Set Collection   \n",
      "\n",
      "       average_rating  users_rated  \n",
      "23            5.93231          308  \n",
      "30            6.04137          182  \n",
      "33            5.69731          130  \n",
      "34            6.06707           82  \n",
      "35            5.22865           96  \n",
      "...               ...          ...  \n",
      "10496         7.33095          333  \n",
      "10509         6.77798          109  \n",
      "10518         6.30659           91  \n",
      "10520         6.72545           55  \n",
      "10523         6.71821           56  \n",
      "\n",
      "[1025 rows x 14 columns]\n"
     ]
    }
   ],
   "source": [
    "# Find rows with NaN values\n",
    "rows_null_values = df[df.isnull().any(axis=1)]\n",
    "\n",
    "# Display rows with NaN values\n",
    "print(rows_null_values)"
   ]
  },
  {
   "cell_type": "markdown",
   "id": "8993ac59",
   "metadata": {},
   "source": [
    "After analyse the rows with NaN values I decide to keep them and classify these line as special labels. Once the other features from the same line have important data for my analyse"
   ]
  },
  {
   "cell_type": "code",
   "execution_count": 385,
   "id": "85d4c355",
   "metadata": {},
   "outputs": [
    {
     "name": "stdout",
     "output_type": "stream",
     "text": [
      "       game_id                                        description  \\\n",
      "0            1  Die Macher is a game about seven sequential po...   \n",
      "1            2  Dragonmaster is a trick-taking card game based...   \n",
      "2            3  Part of the Knizia tile-laying trilogy, Samura...   \n",
      "3            4  When you see the triangular box and the luxuri...   \n",
      "4            5  In Acquire, each player strategically invests ...   \n",
      "...        ...                                                ...   \n",
      "10527   214996  Description from the publisher:&#10;&#10;Silve...   \n",
      "10528   215437  Codex: Card-Time Strategy is a customizable, n...   \n",
      "10529   215471  Time to walk about town and take some pictures...   \n",
      "10530   216201  The race is on for the robots of the Robo Rall...   \n",
      "10531   216725  The deluxe edition comes in a double tall box ...   \n",
      "\n",
      "       max_players  max_playtime  min_age  min_players  min_playtime  \\\n",
      "0                5           240       14            3           240   \n",
      "1                4            30       12            3            30   \n",
      "2                4            60       10            2            30   \n",
      "3                4            60       12            2            60   \n",
      "4                6            90       12            3            90   \n",
      "...            ...           ...      ...          ...           ...   \n",
      "10527            2           480       12            1            30   \n",
      "10528            5            45       13            2            45   \n",
      "10529            4            20       12            2            20   \n",
      "10530            6           120       12            2            20   \n",
      "10531            5            60       14            1            30   \n",
      "\n",
      "                                                    name  playing_time  \\\n",
      "0                                             Die Macher           240   \n",
      "1                                           Dragonmaster            30   \n",
      "2                                                Samurai            60   \n",
      "3                                         Tal der Könige            60   \n",
      "4                                                Acquire            90   \n",
      "...                                                  ...           ...   \n",
      "10527  Silver Bayonet: The First Team in Vietnam, 196...           480   \n",
      "10528               Codex: Card-Time Strategy – Core Set            45   \n",
      "10529                                     Wind the Film!            20   \n",
      "10530                                  Robo Rally (2016)           120   \n",
      "10531    Villages of Valeria: Deluxe Kickstarter Edition            60   \n",
      "\n",
      "       year_published                                     category  \\\n",
      "0                1986               Economic,Negotiation,Political   \n",
      "1                1981                            Card Game,Fantasy   \n",
      "2                1998                   Abstract Strategy,Medieval   \n",
      "3                1992                                      Ancient   \n",
      "4                1964                                     Economic   \n",
      "...               ...                                          ...   \n",
      "10527            2016                          Vietnam War,Wargame   \n",
      "10528            2016  Card Game,Fantasy,Fighting,Video Game Theme   \n",
      "10529            2016                                    Card Game   \n",
      "10530            2016            Miniatures,Racing,Science Fiction   \n",
      "10531            2016                      Card Game,City Building   \n",
      "\n",
      "                                                mechanic  average_rating  \\\n",
      "0      Area Control / Area Influence,Auction/Bidding,...         7.66508   \n",
      "1                                           Trick-taking         6.60815   \n",
      "2      Area Control / Area Influence,Hand Management,...         7.44119   \n",
      "3      Action Point Allowance System,Area Control / A...         6.60675   \n",
      "4           Hand Management,Stock Holding,Tile Placement         7.35830   \n",
      "...                                                  ...             ...   \n",
      "10527                                    Hex-and-Counter         8.35333   \n",
      "10528  Deck / Pool Building,Hand Management,Variable ...         8.08780   \n",
      "10529                     Hand Management,Set Collection         7.28016   \n",
      "10530  Action / Movement Programming,Grid Movement,Mo...         7.45871   \n",
      "10531                      Card Drafting,Hand Management         7.52941   \n",
      "\n",
      "       users_rated  \n",
      "0             4498  \n",
      "1              478  \n",
      "2            12019  \n",
      "3              314  \n",
      "4            15195  \n",
      "...            ...  \n",
      "10527           75  \n",
      "10528           82  \n",
      "10529           63  \n",
      "10530          341  \n",
      "10531          119  \n",
      "\n",
      "[10532 rows x 14 columns]\n"
     ]
    }
   ],
   "source": [
    "# Specify the special label for NaN values\n",
    "special_label = 'Special_Label'  # You can choose any label you prefer\n",
    "special_label1 = 'Special_Label1'\n",
    "\n",
    "# Add the special label as a new category\n",
    "df['category'] = df['category'].cat.add_categories(special_label)\n",
    "df['mechanic'] = df['mechanic'].cat.add_categories(special_label1)\n",
    "\n",
    "# Replace NaN values with the special label\n",
    "df['category'].fillna(special_label, inplace=True)\n",
    "df['mechanic'].fillna(special_label1, inplace=True)\n",
    "\n",
    "# Display the updated DataFrame\n",
    "print(df)"
   ]
  },
  {
   "cell_type": "code",
   "execution_count": 386,
   "id": "57274b6b",
   "metadata": {},
   "outputs": [
    {
     "data": {
      "text/plain": [
       "game_id           0\n",
       "description       0\n",
       "max_players       0\n",
       "max_playtime      0\n",
       "min_age           0\n",
       "min_players       0\n",
       "min_playtime      0\n",
       "name              0\n",
       "playing_time      0\n",
       "year_published    0\n",
       "category          0\n",
       "mechanic          0\n",
       "average_rating    0\n",
       "users_rated       0\n",
       "dtype: int64"
      ]
     },
     "execution_count": 386,
     "metadata": {},
     "output_type": "execute_result"
    }
   ],
   "source": [
    "# Check missing values\n",
    "df.isnull().sum()"
   ]
  },
  {
   "cell_type": "markdown",
   "id": "27d6fa76",
   "metadata": {},
   "source": [
    "# Part 1\t"
   ]
  },
  {
   "cell_type": "markdown",
   "id": "0a955215",
   "metadata": {},
   "source": [
    "#### a) What are the top 5 “average rated” games?  "
   ]
  },
  {
   "cell_type": "markdown",
   "id": "fe9555d3",
   "metadata": {},
   "source": [
    "The dataset will be sorted in a descending order to visualize the Top 5 average games"
   ]
  },
  {
   "cell_type": "code",
   "execution_count": 387,
   "id": "06228511",
   "metadata": {},
   "outputs": [],
   "source": [
    "#Sort the DataFrame by 'average_rating' in descending order\n",
    "top_rated_games = df.sort_values(by='average_rating', ascending=False)"
   ]
  },
  {
   "cell_type": "markdown",
   "id": "ec55f950",
   "metadata": {},
   "source": [
    "The data is displayed in descending order accordlying with average rating"
   ]
  },
  {
   "cell_type": "code",
   "execution_count": 388,
   "id": "59c54bdd",
   "metadata": {},
   "outputs": [
    {
     "name": "stdout",
     "output_type": "stream",
     "text": [
      "                                                 name  average_rating\n",
      "8348                     Small World Designer Edition         9.00392\n",
      "6392                           Kingdom Death: Monster         8.93184\n",
      "9964                           Terra Mystica: Big Box         8.84862\n",
      "8526                          Last Chance for Victory         8.84603\n",
      "9675  The Greatest Day: Sword, Juno, and Gold Beaches         8.83081\n"
     ]
    }
   ],
   "source": [
    "# Display the Top 5 games \n",
    "top_5_games = top_rated_games.head(5)\n",
    "print(top_5_games[['name', 'average_rating']])"
   ]
  },
  {
   "cell_type": "markdown",
   "id": "8acaf60f",
   "metadata": {},
   "source": [
    "For visualization a bar plot graphyc was chosen to show the top 5 average rated games once it can represent in a simply and clear way what is requested"
   ]
  },
  {
   "cell_type": "code",
   "execution_count": 389,
   "id": "763a5085",
   "metadata": {},
   "outputs": [
    {
     "data": {
      "image/png": "[encoded data removed]",
      "text/plain": [
       "<Figure size 1000x500 with 1 Axes>"
      ]
     },
     "metadata": {},
     "output_type": "display_data"
    }
   ],
   "source": [
    "# Making a Bar Plot\n",
    "\n",
    "#Sample data \n",
    "name = ['Small World Designer Edition', 'Kingdom Death: Monster', 'Terra Mystica: Big Box', \n",
    "        'Last Chance for Victory', 'The Greatest Day: Sword, Juno, and Gold Beaches']\n",
    "average_rating = [9.00392, 8.93184, 8.84862, 8.84603, 8.83081]\n",
    "\n",
    "# Define a color palette \n",
    "color_palette = sns.color_palette('Paired')\n",
    "\n",
    "# Create a bar plot using the color palette\n",
    "plt.figure(figsize=(10, 5))\n",
    "bars = plt.barh(name, average_rating, color=color_palette)\n",
    "\n",
    "# Adjust font size and style\n",
    "plt.xlabel('Average Rating', fontsize=12, fontweight='normal')  \n",
    "plt.ylabel('Games', fontsize=12, fontweight='normal')  \n",
    "plt.title('TOP 5 AVERAGE RATED GAMES', fontsize=14, fontweight='bold')  \n",
    "\n",
    "#Adjust figure area, add grid and sort highest rating at the top\n",
    "plt.xlim(8.8, 9.1)  \n",
    "plt.grid(axis='x', linestyle='--', alpha=0.7)\n",
    "plt.gca().invert_yaxis()  \n",
    "\n",
    "# Remove y-axis labels\n",
    "plt.yticks([])\n",
    "\n",
    "# Create a legend \n",
    "legend_handles = [plt.Rectangle((0,0),1,1, color=color_palette[i], ec=\"k\", lw=0.5, label=name) for i, name in enumerate(name)]\n",
    "legend = plt.legend(handles=legend_handles, loc='lower right', title='Games', fontsize=10, frameon=True, facecolor='white')\n",
    "legend.set_title('Games', prop={'size': 12, 'weight': 'bold'})\n",
    "\n",
    "# Customize the figure border and decrease the linewidth\n",
    "for spine in plt.gca().spines.values():\n",
    "    spine.set_linewidth(0.5)      \n",
    "\n",
    "plt.show()"
   ]
  },
  {
   "cell_type": "markdown",
   "id": "06dd3790",
   "metadata": {},
   "source": [
    "#### • Method to engineer the data:\n",
    "\n",
    "The top-rated games' names were organized into two lists, \"name\" and \"average_rating,\" and their associated average ratings were then utilized to generate the data for this bar graphic.\n",
    "I used the Seaborn library's sns.color_palette('Paired') to give each bar in the plot a different color when defining the color palette.\n",
    "The function plt.barh(), which accepts the game titles as the y-axis labels and their accompanying average ratings as the x-axis values, was used by me to construct the horizontal bar plot. \n",
    "\n",
    "This method organizes and presents data in a horizontal bar plot, emphasizing the average ratings of the top-rated games and providing an appealing visualization with various stylistic enhancements.\n",
    "\n",
    "I also customize the figure, created the legend and finilly display the plot\n",
    "\n",
    "For customization was made an ajusting the figure area and setting specific limits on the x-axis (plt.xlim(8.8, 9.1)). Add Grid lines to aid in reading the values. The y-axis labels are removed to create a cleaner appearance.\n",
    "\n",
    "In the legend consists of colored rectangles using plt.Rectangle with labels that represent the game names."
   ]
  },
  {
   "cell_type": "markdown",
   "id": "0a23fcdd",
   "metadata": {},
   "source": [
    "#### • Visualizations: \n",
    "For visualization I used the bar plot graphyc to display counts the relationship between the numerical variables. It show in a simple way the comparation of the variables with the highest average. \n",
    "\n",
    "Bar plot is very usufull. It also allow to compare distinct categories, this visualization method is effective to see how ratings differ among the games.\n",
    "\n",
    "The horizontal vizualization of the Top Rated Games is effective to compare the values of different categories and also because the laybal description was long so it is easy to visualize in this shape."
   ]
  },
  {
   "cell_type": "markdown",
   "id": "bbca6f66",
   "metadata": {},
   "source": [
    "#### • Design decisions (colour, font, titles, size, text position, font size etc) : \n",
    "\n",
    "Colour: I choose for vizualization the Paired palette from seaborn, once the colors are distint and represent each different variable. This type of combination of colours is more suitable for viewers with color vision deficiencies too. The colors are visually balanced and harmonious and viewers can easily identify and associate colors with specific category.\n",
    "\n",
    "Font size and bold: it shows visual hierarchy about the information presented and emphasis. For title I choose size 14 and bold for emphasize the theme of the graphic. In the legend the font size is 12 to ensure it dont dominate the graphic and at the same point give emphasis to the game's informations. \n",
    "\n",
    "The choice of font size and font boldness in a graphic plays a crucial role in enhancing the clarity, visual hierarchy, and overall readability of the information presented. For the data values Font Size is 10, it make the text legible without overwhelming the data points, it provides viewers with precise information while maintaining a clean and uncluttered look. \n",
    "\n",
    "By applying different font sizes and weights strategically, the viewers through the graph's content, emphasizing what's most important and ensuring a balanced and aesthetically pleasing representation of your data.\n",
    "\n",
    "Font type: using Arial as the font in your graph is for prioritizes readability and neutrality, helping the graph is effectively communicates the data without introducing distractions or readability issues."
   ]
  },
  {
   "cell_type": "markdown",
   "id": "03aa9875",
   "metadata": {},
   "source": [
    "#### b) Is there a correlation between the “users_rated” and the “max_playtime”?  "
   ]
  },
  {
   "cell_type": "markdown",
   "id": "e2ccec25",
   "metadata": {},
   "source": [
    "For verify is there is any correlation between this two variables I am going to check the result of correlation and plot a graphyc that express the result"
   ]
  },
  {
   "cell_type": "code",
   "execution_count": 390,
   "id": "817e5686",
   "metadata": {},
   "outputs": [
    {
     "name": "stdout",
     "output_type": "stream",
     "text": [
      "-0.004341647333776701\n"
     ]
    }
   ],
   "source": [
    "# Check correlation between users_rated and max_play_time\n",
    "correlation = df['users_rated'].corr(df['max_playtime'])\n",
    "print(correlation)"
   ]
  },
  {
   "cell_type": "markdown",
   "id": "f952ec81",
   "metadata": {},
   "source": [
    "The result od the correlation -0.0043 implies that there is a slight tendency for one variable to decrease as the other increases, or vice versa. \n",
    "\n",
    "This tendency is very weak, it means these variables are essentially independent of each, don't have capacity to predicte each other. "
   ]
  },
  {
   "cell_type": "code",
   "execution_count": 391,
   "id": "e0076bee",
   "metadata": {},
   "outputs": [
    {
     "data": {
      "image/png": "[encoded data removed]",
      "text/plain": [
       "<Figure size 800x400 with 1 Axes>"
      ]
     },
     "metadata": {},
     "output_type": "display_data"
    }
   ],
   "source": [
    "# Checking correlation between the variables in a Scatterplot\n",
    "\n",
    "# Add grid, Adjust the marker size\n",
    "sns.set_style(\"whitegrid\")\n",
    "sns.relplot(x='users_rated', y='max_playtime', data=df, s=90, color= 'gray', height=4, aspect=2)  \n",
    "\n",
    "# Adjust font size and style\n",
    "plt.xlabel('Users Rated', fontsize=12, fontweight='normal', fontname='Arial')  \n",
    "plt.ylabel('Max Playtime', fontsize=12, fontweight='normal', fontname='Arial')  \n",
    "plt.title('CORRELATION BETWEEN USERS RATED X MAX PLAYTIME', fontsize=14, fontweight='bold', fontname='Arial')  \n",
    "\n",
    "# Add a border around the figure\n",
    "for spine in plt.gca().spines.values():\n",
    "    spine.set_linewidth(0.5)\n",
    "    spine.set_color('black')  \n",
    "\n",
    "plt.show()"
   ]
  },
  {
   "cell_type": "markdown",
   "id": "c48c4469",
   "metadata": {},
   "source": [
    "#### • Method to engineer the data:"
   ]
  },
  {
   "cell_type": "markdown",
   "id": "a8859008",
   "metadata": {},
   "source": [
    "For analyse the correlation between Users Rated and Max Playtime I used the tool sns.relplot by the Seaborn library. This method allowing to visualize the relationship and correlation between two variables. The choice of the plot type in sns.relplot was scatter plot, once it determine if there is a linear relationship between variables. This arrangement allows for the visualization of individual data points for each board game."
   ]
  },
  {
   "cell_type": "markdown",
   "id": "e7690a94",
   "metadata": {},
   "source": [
    "#### • Visualizations: "
   ]
  },
  {
   "cell_type": "markdown",
   "id": "2401a521",
   "metadata": {},
   "source": [
    "In terms of visualization, I apply a scatter plot to represent the result of the correlation. This is a very clear manner to show the data, once the position of data points on the plot conveys information about the relationship between the variables.\n",
    "\n",
    "Provide insights about patters and show the direction of relatioship between the variables if it is positive or negative.\n",
    "\n",
    "This graphyc is also customizable, it allows to change colors, labels and emphasize data.\n",
    "\n",
    "Scatterplots can be used to infer conclusions about the relationship between variables because they are interpretable. In this instance, conclusions about the relationship between user ratings and maximum playtime can be drawn from the plot."
   ]
  },
  {
   "cell_type": "markdown",
   "id": "6e2929ff",
   "metadata": {},
   "source": [
    "#### • Design decisions (colour, font, titles, size, text position, font size etc) : "
   ]
  },
  {
   "cell_type": "markdown",
   "id": "d557340c",
   "metadata": {},
   "source": [
    "Color: I chose the color gray to represent the non correlation between the variables, this decision considereted the principles of colors and visual representation, such color gray, white or neutral indicate no correlation. These colors suggest the absence of a relationship between variables. This color no introduce bias into the interpretation of the data and allows the eyes to focus on significant relationships and real trends.\n",
    "\n",
    "For Font, titles, size and text position I applyed the same principles from the first graphy. In additional in this graphyc I applyed height and aspect tools to lengthen the size of the figure for the plots get a proportinal size.\n",
    "\n",
    "Font size and bold: it shows visual hierarchy about the information presented and emphasis. For title I choose size 14 and bold for emphasize the theme of the graphy. In the legend the font size is 12 to ensure it dont dominate the graphy and at the same point give emphasis to the game's informations.\n",
    "\n",
    "The choice of font size and font boldness in a graph plays a crucial role in enhancing the clarity, visual hierarchy, and overall readability of the information presented. For the data values Font Size is 10, it make the text legible without overwhelming the data points, it provides viewers with precise information while maintaining a clean and uncluttered look.\n",
    "\n",
    "By applying different font sizes and weights strategically, the viewers through the graph's content, emphasizing what's most important and ensuring a balanced and aesthetically pleasing representation of your data.\n",
    "\n",
    "Font type: using Arial as the font in your graph is for prioritizes readability and neutrality, helping the graph is effectively communicates the data without introducing distractions or readability issues."
   ]
  },
  {
   "cell_type": "markdown",
   "id": "d7e69d70",
   "metadata": {},
   "source": [
    "#### c) What is the distribution of game categories?"
   ]
  },
  {
   "cell_type": "code",
   "execution_count": 392,
   "id": "fd279a17",
   "metadata": {},
   "outputs": [
    {
     "data": {
      "text/plain": [
       "0                     Economic,Negotiation,Political\n",
       "1                                  Card Game,Fantasy\n",
       "2                         Abstract Strategy,Medieval\n",
       "3                                            Ancient\n",
       "4                                           Economic\n",
       "                            ...                     \n",
       "10527                            Vietnam War,Wargame\n",
       "10528    Card Game,Fantasy,Fighting,Video Game Theme\n",
       "10529                                      Card Game\n",
       "10530              Miniatures,Racing,Science Fiction\n",
       "10531                        Card Game,City Building\n",
       "Name: category, Length: 10532, dtype: category\n",
       "Categories (3861, object): ['Abstract Strategy', 'Abstract Strategy,Action / Dexterity', 'Abstract Strategy,Action / Dexterity,Book,Car..., 'Abstract Strategy,Action / Dexterity,Children..., ..., 'World War I', 'World War II', 'Zombies', 'Special_Label']"
      ]
     },
     "execution_count": 392,
     "metadata": {},
     "output_type": "execute_result"
    }
   ],
   "source": [
    "#Show the category in this dataset\n",
    "df.category"
   ]
  },
  {
   "cell_type": "code",
   "execution_count": 393,
   "id": "9c73babb",
   "metadata": {},
   "outputs": [
    {
     "name": "stdout",
     "output_type": "stream",
     "text": [
      "Total number of unique categories: 3861\n"
     ]
    }
   ],
   "source": [
    "# Assuming 'category' is the column containing game categories\n",
    "unique_categories_count = df['category'].nunique()\n",
    "\n",
    "print(f'Total number of unique categories: {unique_categories_count}')\n"
   ]
  },
  {
   "cell_type": "code",
   "execution_count": 394,
   "id": "805f401e",
   "metadata": {},
   "outputs": [
    {
     "ename": "IndentationError",
     "evalue": "expected an indented block (2022732880.py, line 6)",
     "output_type": "error",
     "traceback": [
      "\u001b[1;36m  File \u001b[1;32m\"C:\\Users\\Laptop\\AppData\\Local\\Temp\\ipykernel_1540\\2022732880.py\"\u001b[1;36m, line \u001b[1;32m6\u001b[0m\n\u001b[1;33m    print(name)\u001b[0m\n\u001b[1;37m    ^\u001b[0m\n\u001b[1;31mIndentationError\u001b[0m\u001b[1;31m:\u001b[0m expected an indented block\n"
     ]
    }
   ],
   "source": [
    "# Get unique names within the 'category' column\n",
    "unique_names = df['category'].unique()\n",
    "\n",
    "# Print all the unique names in the 'category' column\n",
    "for name in unique_names:\n",
    "print(name)"
   ]
  },
  {
   "cell_type": "code",
   "execution_count": 395,
   "id": "40fe5750",
   "metadata": {},
   "outputs": [
    {
     "name": "stdout",
     "output_type": "stream",
     "text": [
      "                                               category  Count\n",
      "0                                  Wargame,World War II    449\n",
      "1                                             Card Game    438\n",
      "2                                     Abstract Strategy    284\n",
      "3                                    Napoleonic,Wargame    124\n",
      "4                                              Economic    116\n",
      "...                                                 ...    ...\n",
      "3856                Bluffing,Card Game,Economic,Fantasy      1\n",
      "3857    Bluffing,Card Game,Economic,Fantasy,Negotiation      1\n",
      "3858  Bluffing,Card Game,Economic,Fighting,Science F...      1\n",
      "3859      Bluffing,Card Game,Economic,Mafia,Negotiation      1\n",
      "3860                       Card Game,Dice,Fantasy,Humor      1\n",
      "\n",
      "[3861 rows x 2 columns]\n"
     ]
    }
   ],
   "source": [
    "# Group the DataFrame by the 'category' column and count the occurrences\n",
    "name_counts = df['category'].value_counts().reset_index()\n",
    "\n",
    "# Rename the columns for clarity\n",
    "name_counts.columns = ['category', 'Count']\n",
    "\n",
    "# Display the table\n",
    "print(name_counts)"
   ]
  },
  {
   "cell_type": "code",
   "execution_count": 396,
   "id": "e9677652",
   "metadata": {},
   "outputs": [
    {
     "name": "stdout",
     "output_type": "stream",
     "text": [
      "                          category  Count\n",
      "0             Wargame,World War II    449\n",
      "1                        Card Game    438\n",
      "2                Abstract Strategy    284\n",
      "3               Napoleonic,Wargame    124\n",
      "4                         Economic    116\n",
      "5                Card Game,Fantasy    110\n",
      "6                             Dice    107\n",
      "7       American Civil War,Wargame     97\n",
      "8                    Special_Label     94\n",
      "9           Modern Warfare,Wargame     89\n",
      "10                      Party Game     77\n",
      "11                 Ancient,Wargame     75\n",
      "12         Science Fiction,Wargame     66\n",
      "13              Action / Dexterity     55\n",
      "15             Wargame,World War I     54\n",
      "14                         Fantasy     54\n",
      "16                        Medieval     51\n",
      "17               Party Game,Trivia     47\n",
      "18               Animals,Card Game     46\n",
      "19  Economic,Trains,Transportation     43\n"
     ]
    }
   ],
   "source": [
    "# Group the DataFrame by the 'category' column and count the occurrences\n",
    "name_counts = df['category'].value_counts().reset_index()\n",
    "\n",
    "# Rename the columns for clarity\n",
    "name_counts.columns = ['category', 'Count']\n",
    "\n",
    "# Sort the table by 'Count' in descending order\n",
    "name_counts = name_counts.sort_values(by='Count', ascending=False)\n",
    "\n",
    "# Display the top 10 names and their counts\n",
    "top_10_names = name_counts.head(20)\n",
    "print(top_10_names)"
   ]
  },
  {
   "cell_type": "markdown",
   "id": "aee45a32",
   "metadata": {},
   "source": [
    "In this step the Treeplot will be created to show the games categories"
   ]
  },
  {
   "cell_type": "code",
   "execution_count": 397,
   "id": "8fadb3a2",
   "metadata": {},
   "outputs": [
    {
     "ename": "SyntaxError",
     "evalue": "invalid syntax (913656585.py, line 13)",
     "output_type": "error",
     "traceback": [
      "\u001b[1;36m  File \u001b[1;32m\"C:\\Users\\Laptop\\AppData\\Local\\Temp\\ipykernel_1540\\913656585.py\"\u001b[1;36m, line \u001b[1;32m13\u001b[0m\n\u001b[1;33m    fig.update_layout(font=dict(family='Arial', size=14))\u001b[0m\n\u001b[1;37m    ^\u001b[0m\n\u001b[1;31mSyntaxError\u001b[0m\u001b[1;31m:\u001b[0m invalid syntax\n"
     ]
    }
   ],
   "source": [
    "#Create a Treeplot to represent the game categories\n",
    "\n",
    "# Choose an accessible color palette\n",
    "colors = px.colors.qualitative.Set3\n",
    "\n",
    "# Create a Treemap with Plotly Express\n",
    "fig = px.treemap(top_10_names, path=['category'], values='Count', color_discrete_sequence=colors)\n",
    "\n",
    "# Customize the title \n",
    "fig.update_layout(title_text='TOP 10 GAME CATEGORIES (TREEMAP)', title_font=dict(family='Arial', size=14), title_x=0.5  \n",
    "                  \n",
    "# Customize the text\n",
    "fig.update_layout(font=dict(family='Arial', size=14))\n",
    "\n",
    "# Show the Treemap\n",
    "fig.show()"
   ]
  },
  {
   "cell_type": "markdown",
   "id": "bb80793b",
   "metadata": {},
   "source": [
    "#### • Method to engineer the data:\n",
    "Hierarchical data are efficiently communicated with this treemap, where categories are arranged into tiers based on the top 10. The method for engineering this data involved importing the Plotly Express library with the alias 'px'. A great option for treemaps is Plotly Express, a flexible Python package for building interactive visualizations.\n",
    "\n",
    "The 'px.colors.qualitative' group of colors was used to create the color scheme. Using the function 'px.treemap' to construct the visualization, the next step was to create the Treemap. \n",
    "\n",
    "The following are the important criteria:\n",
    "- Top_10_names: This represents the data source and should be changed with your actual DataFrame containing the top 10 categories and their numbers.\n",
    "\n",
    "- Path=['category']: The path argument specifies the column(s) that correspond to the levels in the treemap, which establishes the hierarchy. Category here refers to the category column.\n",
    "\n",
    "- The option values=Count specifies the values for each category, which correspond to the number of games in that category.\n",
    "\n",
    "- Color_discrete_sequence=colors: The selected color scheme is used to represent various categories."
   ]
  },
  {
   "cell_type": "markdown",
   "id": "219af1b4",
   "metadata": {},
   "source": [
    "#### • Visualizations: \n",
    "The top 10 game genres are represented by a treemap visualization, which was chosen for being ideal for displaying hierarchical data, where game categories are organized hierarchical and the spectators can see how each category contributes to the overall experience. \n",
    "\n",
    "It is also use the scape effectivelly with each category depicted as a rectangular block, treemaps make efficient use of space by separating the visualization into rectangles. When dealing with a big number of categories, this arrangement is helpful.\n",
    "\n",
    "It allow to compare categories once it is simple to assess how large certain categories are. \n",
    "\n",
    "Treemap has a color coding that can be used to encode additional information, such metrics or category numbers. Viewers can more easily recognize patterns and variances by using a color scheme that separates across categories.\n",
    "\n",
    "This graphy is great to foccus the Top 10 game categories, there is option for exhibiting the top 10 game categories because they excel at presenting a small number of categories. \n",
    "\n",
    "In conclusion, the treemap was chosen because it effectively represents hierarchical data, allows for category comparisons, and offers interactivity and aesthetic appeal. It is a good option for showing the distribution of the top 10 game categories because of these features."
   ]
  },
  {
   "cell_type": "markdown",
   "id": "84f07cd9",
   "metadata": {},
   "source": [
    "#### • Design decisions (colour, font, titles, size, text position, font size etc) : \n",
    "\n",
    "The design decisions for the treemap visualization created a clear, aesthetically pleasing, and informative representation of the top 10 game categories.\n",
    "\n",
    "Color: From the available color schemes offered by Plotly Express, \"Set3,\" a high-quality color palette, was chosen. Each category's colors are distinct and simple to distinguish in this palette. The choice of a color scheme was crucial for properly separating categories.\n",
    "\n",
    "Font Family: Arial was selected as the type of font because it is readable and guarantees that the content is understandable and simple to read.\n",
    "\n",
    "Formatting: The title was given a larger font size of 14. It makes the purpose of the graphic abundantly clear.\n",
    "\n",
    "Title Alignment: The treemap's title was positioned in the center. The depiction is more visually balanced and appealing as a result of the title's centering.\n",
    "\n",
    "The remaining text is in the Arial font, size 12. The visualization is uniform and readable thanks to the constant text size.\n",
    "\n",
    "Positioning of Text: The category labels and count values were automatically positioned within the treemap's rectangles, ensuring they are contained and legible. The automatic placement optimizes space and minimizes overlap.\n",
    "\n",
    "This graphic design choices were made with the intention of producing a treemap that is both aesthetically pleasing and educational and that accurately depicts the distribution of the top 10 gaming categories. A balanced and captivating representation is made possible by the color scheme, font family, title style, and intelligent text positioning."
   ]
  },
  {
   "cell_type": "markdown",
   "id": "41816271",
   "metadata": {},
   "source": [
    "#### d) Do older games (1992 and earlier) have a higher MEDIAN “average rating” than newer games (after 1992)?  \n"
   ]
  },
  {
   "cell_type": "markdown",
   "id": "82eb0112",
   "metadata": {},
   "source": [
    "The data will be separeted in two parts, one considering older games and other newer games. \n",
    "This way will be possible to calculate the median for each category older and newer games considering the average rating"
   ]
  },
  {
   "cell_type": "code",
   "execution_count": 398,
   "id": "aa3f8591",
   "metadata": {},
   "outputs": [],
   "source": [
    "# Separate the data into older and newer games\n",
    "older_games = df[df['year_published'] <= 1992]\n",
    "newer_games = df[df['year_published'] > 1992]"
   ]
  },
  {
   "cell_type": "code",
   "execution_count": 399,
   "id": "7348904f",
   "metadata": {},
   "outputs": [],
   "source": [
    "#Calculate the median average rating for both groups over time\n",
    "median_ratings_older = older_games.groupby('year_published')['average_rating'].median()\n",
    "median_ratings_newer = newer_games.groupby('year_published')['average_rating'].median()"
   ]
  },
  {
   "cell_type": "code",
   "execution_count": 400,
   "id": "191ca864",
   "metadata": {},
   "outputs": [
    {
     "data": {
      "image/png": "[encoded data removed]",
      "text/plain": [
       "<Figure size 1000x500 with 1 Axes>"
      ]
     },
     "metadata": {},
     "output_type": "display_data"
    }
   ],
   "source": [
    "# Create a box plot to compare the median ratings\n",
    "plt.figure(figsize=(10, 5))\n",
    "\n",
    "# Define colors for the boxes\n",
    "colors = ['#1f77b4', '#2ca02c']\n",
    "\n",
    "# Create the box plot with custom colors\n",
    "boxplot = plt.boxplot([median_ratings_older, median_ratings_newer], labels=['Older Games', 'Newer Games'], patch_artist=True)\n",
    "\n",
    "# Apply custom colors to the boxes\n",
    "for box, color in zip(boxplot['boxes'], colors):\n",
    "    box.set(facecolor=color)\n",
    "\n",
    "plt.title('COMPARATION OF MEDIAN - AVERAGE RATINGS', fontsize=14, fontweight='bold', fontname='Arial')\n",
    "plt.xlabel('Group', fontsize=12, fontweight='normal', fontname='Arial')\n",
    "plt.ylabel('Median Average Rating', fontsize=12, fontweight='normal', fontname='Arial')\n",
    "\n",
    "# Calculate the medians\n",
    "median_older = round(median_ratings_older.median(), 2)\n",
    "median_newer = round(median_ratings_newer.median(), 2)\n",
    "\n",
    "# Add a legend with median values\n",
    "plt.legend([f'Older Group (< 1992), Median: {median_older}', f'Newer Group (> 1992), Median: {median_newer}'],\n",
    "           loc='lower right', frameon=False)\n",
    "\n",
    "# Remove the grid lines\n",
    "plt.grid(False)\n",
    "\n",
    "# Add a border around the figure\n",
    "for spine in plt.gca().spines.values():\n",
    "    spine.set_linewidth(0.5)\n",
    "    spine.set_color('black')\n",
    "\n",
    "plt.show()"
   ]
  },
  {
   "cell_type": "code",
   "execution_count": 401,
   "id": "f2d06af9",
   "metadata": {},
   "outputs": [
    {
     "name": "stdout",
     "output_type": "stream",
     "text": [
      "The p-value is 1.0000. There is no statistically significant difference.\n",
      "There is no strong evidence that older games have a higher median average rating than newer games.\n"
     ]
    }
   ],
   "source": [
    "# Perform a Mann-Whitney U test\n",
    "statistic, p_value = stats.mannwhitneyu(older_games['average_rating'], newer_games['average_rating'], alternative='greater')\n",
    "\n",
    "# Define the significance level (alpha)\n",
    "alpha = 0.05\n",
    "\n",
    "# Check if the p-value is less than the significance level\n",
    "if p_value < alpha:\n",
    "    print(f\"The p-value is {p_value:.4f}. There is a statistically significant difference.\")\n",
    "    print(\"Older games have a significantly higher median average rating than newer games.\")\n",
    "else:\n",
    "    print(f\"The p-value is {p_value:.4f}. There is no statistically significant difference.\")\n",
    "    print(\"There is no strong evidence that older games have a higher median average rating than newer games.\")"
   ]
  },
  {
   "cell_type": "markdown",
   "id": "8a26a713",
   "metadata": {},
   "source": [
    "#### • Method to engineer the data:"
   ]
  },
  {
   "cell_type": "markdown",
   "id": "e40951a5",
   "metadata": {},
   "source": [
    "In order to engineer the data for this particular analysis the method of  segmentation was applyed dividing the data into the two relevant groups being them: older and newer games. \n",
    "The next step consiste in data aggregation that agroup the data by determining the median 'average rating' for each group. After that the method of data visualization was applyed using the box plot to compare the medians in order to visually understand the results. This method aids in determining whether older games have a higher median \"average rating\" than more recent ones."
   ]
  },
  {
   "cell_type": "markdown",
   "id": "2409344c",
   "metadata": {},
   "source": [
    "#### • Visualizations: "
   ]
  },
  {
   "cell_type": "markdown",
   "id": "da6e612c",
   "metadata": {},
   "source": [
    "The choice of the boxplot in this visualization was due this graphy is easy to compare the central tendency between two groups, once it is possible to see in a clear way the central tendence of each group (older and newer games). Box plots reveal details on the distribution and spread of the data within each category. It is possible to collect other informations beside median as the value of quartiles including the first quartile (Q1), third quartile (Q3), and interquartile range (IQR), which will help you comprehend the variation in \"average rating\" within each group.\n",
    "\n",
    "The results of this box plot show the older games does not have higher average than newer games\n",
    "- Older game - 5.95\n",
    "- Newer game - 6.21\n",
    "\n",
    "These median vallues can be observed in the Middle Line in the box, which represent the middle point when the data is sorted. It's the 50th percentile of the data. For each box, it tells you the median \"average rating\" for games in that group.\n",
    "\n",
    "You can observe in this graphy the Middle Line (Median) for older games (left box) is lower than for newer games (right box) "
   ]
  },
  {
   "cell_type": "markdown",
   "id": "84321e7c",
   "metadata": {},
   "source": [
    "#### • Design decisions (colour, font, titles, size, text position, font size etc) : "
   ]
  },
  {
   "cell_type": "markdown",
   "id": "3c2aa94d",
   "metadata": {},
   "source": [
    "Color: these colors were chosen for the box for being vibrants and distinctive, specifically red (#FF6B6B) and green (#6BFF6B). It make a contrast between the two groups (Older Games and Newer Games), making it easy for viewers to differentiate between them. These colors also create a harmonious and visually pleasing color palette. The type patch_artist for the boxes makes the graph more engaging and visually distinctive giving enphases in the data.\n",
    "\n",
    "Font: The title, x-axis label, and y-axis label all use the Arial font, which is a clean and easily readable typeface. Consistency in font choice improves readability and aesthetics. For the title is given a larger font size (14) and bold font weight to make it stand out and convey its importance. In the axis labels are slightly smaller (12) with a normal font weight for readability.\n",
    "\n",
    "Title Clarity: The title \"COMPARATION OF MEDIAN - AVERAGE RATINGS\" is informative and clear, providing the viewer with a concise description of the content of the graph.\n",
    "\n",
    "Legend: I added a legend in the lower right of the graph to explain what each group represents and including the median values for both groups. This additional information enhances the viewer's understanding.\n",
    "\n",
    "Border: A border was added around the figure to give the graph a neat and defined appearance.\n",
    "\n",
    "Grid Lines: To make the graph clearer and simpler to understand, the grid lines have been eliminated.\n",
    "\n",
    "Figure Size: Without being excessively large or too small, the selected figure size (10 inches wide by 5 inches tall) is suitable for presenting the data and labels.\n",
    "\n",
    "Text Positioning: To prevent overlapping and to improve readability, the title, labels, and legend are placed carefully."
   ]
  },
  {
   "cell_type": "markdown",
   "id": "1513030f",
   "metadata": {},
   "source": [
    "#### e) What are the 5 most common “mechanics” in the dataset?  "
   ]
  },
  {
   "cell_type": "code",
   "execution_count": 402,
   "id": "9fa965dc",
   "metadata": {},
   "outputs": [
    {
     "name": "stdout",
     "output_type": "stream",
     "text": [
      "The 5 most common mechanics are:\n",
      "Special_Label1          950\n",
      "Hex-and-Counter         523\n",
      "Hand Management         297\n",
      "Dice Rolling            222\n",
      "Roll / Spin and Move    199\n",
      "Name: mechanic, dtype: int64\n"
     ]
    }
   ],
   "source": [
    "# Count the frequency of each unique mechanic\n",
    "mechanics_counts = df['mechanic'].value_counts()\n",
    "\n",
    "# Get the 5 most common mechanics\n",
    "top_5_mechanics = mechanics_counts.head(5)\n",
    "\n",
    "# Print the results\n",
    "print(\"The 5 most common mechanics are:\")\n",
    "print(top_5_mechanics)"
   ]
  },
  {
   "cell_type": "code",
   "execution_count": 403,
   "id": "53f2d63c",
   "metadata": {},
   "outputs": [
    {
     "data": {
      "image/png": "[encoded data removed]",
      "text/plain": [
       "<Figure size 1000x500 with 1 Axes>"
      ]
     },
     "metadata": {},
     "output_type": "display_data"
    }
   ],
   "source": [
    "# Create a Pareto chart\n",
    "plt.figure(figsize=(10, 5))\n",
    "\n",
    "# Define a list of distinct colors (colorblind-friendly)\n",
    "colors = ['#1f77b4', '#ff7f0e', '#2ca02c', '#d62728', '#9467bd']\n",
    "\n",
    "# Create the Pareto chart with custom colors\n",
    "for i, (mechanism, count) in enumerate(zip(top_5_mechanics.index, top_5_mechanics.values)):\n",
    "    plt.bar(mechanism, count, color=colors[i])\n",
    "    \n",
    "    # Add percentage on top of each bar\n",
    "    percentage = (count / top_5_mechanics.sum()) * 100\n",
    "    plt.text(mechanism, count + 1, f'{percentage:.1f}%', ha='center', fontsize=10, fontweight='normal')\n",
    "\n",
    "plt.xlabel('Mechanism', fontsize=12, fontweight='normal', fontname='Arial')\n",
    "plt.ylabel('Count', fontsize=12, fontweight='normal', fontname='Arial')\n",
    "plt.title('TOP 5 COMMON MECHANISMS', fontsize=14, fontweight='bold', fontname='Arial')\n",
    "plt.xticks(rotation=45, ha='right')\n",
    "\n",
    "# Remove the grid lines\n",
    "plt.grid(False)\n",
    "\n",
    "# Rotate the x-axis labels\n",
    "plt.xticks(rotation=0, ha='center')\n",
    "\n",
    "# Add a border around the figure\n",
    "for spine in plt.gca().spines.values():\n",
    "    spine.set_linewidth(0.5)\n",
    "    spine.set_color('black')\n",
    "\n",
    "plt.show()"
   ]
  },
  {
   "cell_type": "markdown",
   "id": "08f85495",
   "metadata": {},
   "source": [
    "#### • Method to engineer the data:"
   ]
  },
  {
   "cell_type": "markdown",
   "id": "3053b615",
   "metadata": {},
   "source": [
    "In order to determine which mechanics are most prevalent, I used the methods of counting the frequency of each distinct mechanic in your dataset, selecting the top 5 mechanics based on their frequency, and plotting the findings in a Pareto chart.\n",
    "\n",
    "This data preparation is essential for producing a Pareto chart once it enables to recognize and highlight the major sources of variation in your dataset. The Pareto chart is a useful tool for comprehending data distribution and concentrating on the most important components."
   ]
  },
  {
   "cell_type": "markdown",
   "id": "4de9bfc9",
   "metadata": {},
   "source": [
    "#### • Visualizations:"
   ]
  },
  {
   "cell_type": "markdown",
   "id": "bc8feef5",
   "metadata": {},
   "source": [
    "A Pareto chart was used to visualize the data in this graph. The values are shown in this graph in decreasing order. \n",
    "\n",
    "Given that it emphasizes the major contributors and prioritises the most important aspects or categories, the Pareto is a good choice for this situation since it makes it simple to prioritize and concentrate on the major contributors. \n",
    "\n",
    "Additionally, it enables the categories to be ordered, with the most popular mechanisms at the top. \n",
    "\n",
    "This is crucial for swiftly determining the aspects in your data that are most frequently present. The data distribution across categories is also well visualized in this graph. \n",
    "\n",
    "This makes it simpler to observe which categories are more dominant than others. Additionally, Pareto charts are quite successful at explaining the results to others.\n",
    "\n",
    "The Pareto chart can show how the distribution of game mechanics is distributed. In a may rapidly comprehend which game mechanisms are the most widespread and their overall impact by looking at the top 5 most frequent mechanisms, together with their frequencies and cumulative percentages."
   ]
  },
  {
   "cell_type": "markdown",
   "id": "b077260f",
   "metadata": {},
   "source": [
    "#### • Design decisions (colour, font, titles, size, text position, font size etc) :"
   ]
  },
  {
   "cell_type": "markdown",
   "id": "c0bfebbf",
   "metadata": {},
   "source": [
    "Color: Each bar in the chart is represented by a different color. To make the chart accessible to a large audience, these colors were selected to be colorblind-friendly.\n",
    "\n",
    "All of the fonts are in Arial, which is a simple and readable typeface that guarantees the text's legibility.\n",
    "\n",
    "Font Size and Weight: To emphasize the title's significance and make it stand out, I utilized a higher font size (14) and bold font weight. It is simple to read because the axis labels have a font size of 12. \n",
    "\n",
    "Clarity of Title: The succinct summary of the chart's contents under the title \"TOP 5 COMMON MECHANISMS\" is clear and instructive.\n",
    "\n",
    "Bar Colors: Each category has a different color, which makes it simple to interpret. The colors are bold and aesthetically beautiful.\n",
    "\n",
    "Text Positioning: By carefully placing percentage figures on top of each bar, viewers may quickly comprehend how each mechanism contributes to the overall count.\n",
    "\n",
    "The size of the chart, which is 10 inches wide by 5 inches height, is suitable for displaying the data and labels without being excessively enormous or small.\n",
    "\n",
    "Border: By adding a border around the figure, the chart appears tidy and well-defined."
   ]
  },
  {
   "cell_type": "markdown",
   "id": "55d90c77",
   "metadata": {},
   "source": [
    "### Part 2"
   ]
  },
  {
   "cell_type": "markdown",
   "id": "5ba0e83c",
   "metadata": {},
   "source": [
    "You must answer a “Statistically Relevant” question, OF YOUR OWN CHOOSING, using the dataset, that has not been asked in Part 1.\n",
    "This must have a logical basis that enhances the information and insight gained in the scenario. "
   ]
  },
  {
   "cell_type": "markdown",
   "id": "4bf9f347",
   "metadata": {},
   "source": [
    "#### What are the top 5 Name of games considering the max playtime"
   ]
  },
  {
   "cell_type": "code",
   "execution_count": 404,
   "id": "635059c8",
   "metadata": {},
   "outputs": [],
   "source": [
    "# Get the top 5 games with the highest 'max_playtime'\n",
    "top_5_max_playtime = df.nlargest(5, 'max_playtime')"
   ]
  },
  {
   "cell_type": "code",
   "execution_count": 405,
   "id": "7b531a1a",
   "metadata": {},
   "outputs": [
    {
     "name": "stdout",
     "output_type": "stream",
     "text": [
      "['The Campaign for North Africa', '1914: Offensive à outrance', 'Empires in Arms', 'Drang Nach Osten!', 'World in Flames']\n"
     ]
    }
   ],
   "source": [
    "# Names of the games\n",
    "games = top_5_max_playtime['name'].tolist()  # Convert to a list\n",
    "print(games)"
   ]
  },
  {
   "cell_type": "code",
   "execution_count": 406,
   "id": "73374f1c",
   "metadata": {},
   "outputs": [],
   "source": [
    "# Corresponding max_playtime values\n",
    "max_playtimes = top_5_max_playtime['max_playtime']"
   ]
  },
  {
   "cell_type": "code",
   "execution_count": 411,
   "id": "8da39c72",
   "metadata": {},
   "outputs": [
    {
     "data": {
      "image/png": "[encoded data removed]",
      "text/plain": [
       "<Figure size 1000x500 with 1 Axes>"
      ]
     },
     "metadata": {},
     "output_type": "display_data"
    }
   ],
   "source": [
    "# Create a Dot plot with max_playtime on the y-axis\n",
    "\n",
    "# Font family to 'Arial' \n",
    "plt.rcParams['font.family'] = 'Arial'\n",
    "\n",
    "#Define figure\n",
    "plt.figure(figsize=(10, 5))\n",
    "plt.scatter(games, max_playtimes, c='green', s=100, alpha=0.7)\n",
    "plt.title('TOP 5 GAMES CONSIDERING MAX PLAYTIME', fontsize=14, fontweight='bold')\n",
    "plt.xlabel('Games', fontsize=12)\n",
    "plt.ylabel('Max Playtime', fontsize=12)\n",
    "plt.grid(True)\n",
    "\n",
    "# Rotate the x-axis labels\n",
    "plt.xticks(rotation=0, ha='center')\n",
    "\n",
    "# Add a border around the figure\n",
    "for spine in plt.gca().spines.values():\n",
    "    spine.set_linewidth(0.5)\n",
    "    spine.set_color('black')\n",
    "\n",
    "plt.show()"
   ]
  },
  {
   "cell_type": "markdown",
   "id": "e549aa17",
   "metadata": {},
   "source": [
    "#### • What your rationale is for the visualization created in Part 2 and how your question enhances the information and insight gained in the scenario "
   ]
  },
  {
   "cell_type": "markdown",
   "id": "e4dcfe40",
   "metadata": {},
   "source": [
    "Considering the company want to determine the sales strategy for their upcoming Winter season the question (What are the top 5 Games considering the max playtime) show what game is most enjoyable and capch the attention of players for more time.\n",
    "\n",
    "Based on that the company can analyse what there is in this games that make players playing more, what type of design they have and what category they represent. \n",
    "\n",
    "With these information the company can improve the other games in a way that make them more enjoyable, they can invest in marketing in the top 5 games to attract more players, and with this profite can also invest more in this type os games."
   ]
  },
  {
   "cell_type": "markdown",
   "id": "77ceb61c",
   "metadata": {},
   "source": [
    "#### • Method to engineer the data:"
   ]
  },
  {
   "cell_type": "markdown",
   "id": "3f330f3a",
   "metadata": {},
   "source": [
    "The method used to prepare and engineer the data consisted in select the top 5 name of games considering the max playtime values, this selection is achieved using the `nlargest` method from the Pandas library.\n",
    "\n",
    "The next step was create two list containing the names of the games and another for the corresponding max_playtime.\n",
    "\n",
    "For the data visualization was applyed a dot plot. This plot allows you to compare the \"max_playtime\" values for each of the top 5 games.\n",
    "\n",
    "For the plot display I used the plt.show() funcction."
   ]
  },
  {
   "cell_type": "markdown",
   "id": "1aa606a1",
   "metadata": {},
   "source": [
    "#### • Visualizations"
   ]
  },
  {
   "cell_type": "markdown",
   "id": "42d30b50",
   "metadata": {},
   "source": [
    "For this visualization, I went with a dot plot because of its clarity and simplicity; each point is represented by a single dot.\n",
    "\n",
    "It displays the specific points for each distribution category.\n",
    "\n",
    "Due to the fact that each of the top 5 games is represented by a unique dot, it is also simple to compare their maximum playtimes.\n",
    "\n",
    "They have a simple layout that can assist in drawing the viewer's attention to the data itself. "
   ]
  },
  {
   "cell_type": "markdown",
   "id": "381c966f",
   "metadata": {},
   "source": [
    "#### • Design decisions (colour, font, titles, size, text position, font size etc) :"
   ]
  },
  {
   "cell_type": "markdown",
   "id": "ebbf3bb2",
   "metadata": {},
   "source": [
    "Color: green contrasts well with a white, it is also associated with positive attributes such as growth, prosperity, and harmony.\n",
    "\n",
    "Font: I used the font family to Arial for being a legible font, clear and easy to understand.\n",
    "\n",
    "Titles: The title of plot, \"TOP 5 GAMES CONSIDERING MAX PLAYTIME,\" provides a understand the purpose of the visualization. The size 14 and bold give emphasis to the principal message.\n",
    "\n",
    "Size: For the dots I used size `s=100`, it give emphasis and let the data points more prominent.\n",
    "\n",
    "Text Position and Font Size: rotated the x-axis labels to prevent overlap. \n",
    "\n",
    "Grid: included grid lines in this plot, help viewers gauge values more accurately. "
   ]
  },
  {
   "cell_type": "markdown",
   "id": "d0cf0ae1",
   "metadata": {},
   "source": [
    "### References\n",
    "\n"
   ]
  },
  {
   "cell_type": "markdown",
   "id": "a0e504d0",
   "metadata": {},
   "source": [
    "“Choosing Color Palettes — Seaborn 0.9.0 Documentation.” Pydata.org, 2013, seaborn.pydata.org/tutorial/color_palettes.html.\n",
    "\n",
    "Mckinney, Wes. Python for Data Analysis : Data Wrangling with Pandas, NumPy, and IPython, 2017.\n",
    "\n",
    "VanderPlas, Jake. “Python Data Science Handbook | Python Data Science Handbook.” Github.io, 2019, jakevdp.github.io/PythonDataScienceHandbook/."
   ]
  }
 ],
 "metadata": {
  "kernelspec": {
   "display_name": "Python 3 (ipykernel)",
   "language": "python",
   "name": "python3"
  },
  "language_info": {
   "codemirror_mode": {
    "name": "ipython",
    "version": 3
   },
   "file_extension": ".py",
   "mimetype": "text/x-python",
   "name": "python",
   "nbconvert_exporter": "python",
   "pygments_lexer": "ipython3",
   "version": "3.9.13"
  }
 },
 "nbformat": 4,
 "nbformat_minor": 5
}
