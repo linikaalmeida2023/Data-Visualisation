{
 "cells": [
  {
   "cell_type": "markdown",
   "id": "0b56e483",
   "metadata": {},
   "source": [
    "# CA1 Data Visualization Higher Diplome Lvl8  \n",
    "\n",
    "### Student - Linika Almeida, ID - 2023045"
   ]
  },
  {
   "cell_type": "markdown",
   "id": "4d143f69",
   "metadata": {},
   "source": [
    "### Institution - CCT College\n",
    "\n",
    "Description: This project is part of the HDIP Data Analytics course for the module of Data Visualization Techniques and implements a analyse based on a Board Game dataset."
   ]
  },
  {
   "cell_type": "markdown",
   "id": "a2529f40",
   "metadata": {},
   "source": [
    "### Importing Libraries"
   ]
  },
  {
   "cell_type": "code",
   "execution_count": 16,
   "id": "7bfeca63",
   "metadata": {},
   "outputs": [],
   "source": [
    "import warnings\n",
    "warnings.filterwarnings('ignore')\n",
    "\n",
    "#Import libraries\n",
    "import pandas as pd\n",
    "import numpy as np\n",
    "import seaborn as sns\n",
    "import matplotlib.pyplot as plt\n",
    "import plotly.express as px\n",
    "import scipy.stats as stats"
   ]
  },
  {
   "cell_type": "code",
   "execution_count": 17,
   "id": "5af11773",
   "metadata": {},
   "outputs": [],
   "source": [
    "#Open dataset\n",
    "df = pd.read_csv('board_games.csv')"
   ]
  },
  {
   "cell_type": "markdown",
   "id": "507a2f5b",
   "metadata": {},
   "source": [
    "### Data Description"
   ]
  },
  {
   "cell_type": "markdown",
   "id": "4e8bf678",
   "metadata": {},
   "source": [
    "You have been retained by a retail company to analyse a dataset based on board games. This analysis will help determine the sales strategy for the company in their upcoming Winter season.   \n",
    "  \n",
    "The companies CTO also requires you to rationalize all the decisions that you have made in your report.   \n",
    "  \n",
    "This rationalization MUST include your visualization design decisions, how you have engineered the data, feature selection and any other information that you deem relevant.   "
   ]
  },
  {
   "cell_type": "markdown",
   "id": "556f955e",
   "metadata": {},
   "source": [
    "### Exploratry Data Analyse"
   ]
  },
  {
   "cell_type": "markdown",
   "id": "6d23e77b",
   "metadata": {},
   "source": [
    "In the EDA I will do some assumptions, do a comprehension of the dataset and check missing values"
   ]
  },
  {
   "cell_type": "code",
   "execution_count": 18,
   "id": "aaab1b12",
   "metadata": {},
   "outputs": [
    {
     "data": {
      "text/html": [
       "<div>\n",
       "<style scoped>\n",
       "    .dataframe tbody tr th:only-of-type {\n",
       "        vertical-align: middle;\n",
       "    }\n",
       "\n",
       "    .dataframe tbody tr th {\n",
       "        vertical-align: top;\n",
       "    }\n",
       "\n",
       "    .dataframe thead th {\n",
       "        text-align: right;\n",
       "    }\n",
       "</style>\n",
       "<table border=\"1\" class=\"dataframe\">\n",
       "  <thead>\n",
       "    <tr style=\"text-align: right;\">\n",
       "      <th></th>\n",
       "      <th>game_id</th>\n",
       "      <th>description</th>\n",
       "      <th>image</th>\n",
       "      <th>max_players</th>\n",
       "      <th>max_playtime</th>\n",
       "      <th>min_age</th>\n",
       "      <th>min_players</th>\n",
       "      <th>min_playtime</th>\n",
       "      <th>name</th>\n",
       "      <th>playing_time</th>\n",
       "      <th>...</th>\n",
       "      <th>artist</th>\n",
       "      <th>category</th>\n",
       "      <th>compilation</th>\n",
       "      <th>designer</th>\n",
       "      <th>expansion</th>\n",
       "      <th>family</th>\n",
       "      <th>mechanic</th>\n",
       "      <th>publisher</th>\n",
       "      <th>average_rating</th>\n",
       "      <th>users_rated</th>\n",
       "    </tr>\n",
       "  </thead>\n",
       "  <tbody>\n",
       "    <tr>\n",
       "      <th>0</th>\n",
       "      <td>1</td>\n",
       "      <td>Die Macher is a game about seven sequential po...</td>\n",
       "      <td>//cf.geekdo-images.com/images/pic159509.jpg</td>\n",
       "      <td>5</td>\n",
       "      <td>240</td>\n",
       "      <td>14</td>\n",
       "      <td>3</td>\n",
       "      <td>240</td>\n",
       "      <td>Die Macher</td>\n",
       "      <td>240</td>\n",
       "      <td>...</td>\n",
       "      <td>Marcus Gschwendtner</td>\n",
       "      <td>Economic,Negotiation,Political</td>\n",
       "      <td>NaN</td>\n",
       "      <td>Karl-Heinz Schmiel</td>\n",
       "      <td>NaN</td>\n",
       "      <td>Country: Germany,Valley Games Classic Line</td>\n",
       "      <td>Area Control / Area Influence,Auction/Bidding,...</td>\n",
       "      <td>Hans im Glück Verlags-GmbH,Moskito Spiele,Vall...</td>\n",
       "      <td>7.66508</td>\n",
       "      <td>4498</td>\n",
       "    </tr>\n",
       "    <tr>\n",
       "      <th>1</th>\n",
       "      <td>2</td>\n",
       "      <td>Dragonmaster is a trick-taking card game based...</td>\n",
       "      <td>//cf.geekdo-images.com/images/pic184174.jpg</td>\n",
       "      <td>4</td>\n",
       "      <td>30</td>\n",
       "      <td>12</td>\n",
       "      <td>3</td>\n",
       "      <td>30</td>\n",
       "      <td>Dragonmaster</td>\n",
       "      <td>30</td>\n",
       "      <td>...</td>\n",
       "      <td>Bob Pepper</td>\n",
       "      <td>Card Game,Fantasy</td>\n",
       "      <td>NaN</td>\n",
       "      <td>G. W. \"Jerry\" D'Arcey</td>\n",
       "      <td>NaN</td>\n",
       "      <td>Animals: Dragons</td>\n",
       "      <td>Trick-taking</td>\n",
       "      <td>E.S. Lowe,Milton Bradley</td>\n",
       "      <td>6.60815</td>\n",
       "      <td>478</td>\n",
       "    </tr>\n",
       "    <tr>\n",
       "      <th>2</th>\n",
       "      <td>3</td>\n",
       "      <td>Part of the Knizia tile-laying trilogy, Samura...</td>\n",
       "      <td>//cf.geekdo-images.com/images/pic3211873.jpg</td>\n",
       "      <td>4</td>\n",
       "      <td>60</td>\n",
       "      <td>10</td>\n",
       "      <td>2</td>\n",
       "      <td>30</td>\n",
       "      <td>Samurai</td>\n",
       "      <td>60</td>\n",
       "      <td>...</td>\n",
       "      <td>Franz Vohwinkel</td>\n",
       "      <td>Abstract Strategy,Medieval</td>\n",
       "      <td>NaN</td>\n",
       "      <td>Reiner Knizia</td>\n",
       "      <td>NaN</td>\n",
       "      <td>Asian Theme,Country: Japan,Knizia tile-laying ...</td>\n",
       "      <td>Area Control / Area Influence,Hand Management,...</td>\n",
       "      <td>999 Games,ABACUSSPIELE,Astrel Games,Ceilikan J...</td>\n",
       "      <td>7.44119</td>\n",
       "      <td>12019</td>\n",
       "    </tr>\n",
       "    <tr>\n",
       "      <th>3</th>\n",
       "      <td>4</td>\n",
       "      <td>When you see the triangular box and the luxuri...</td>\n",
       "      <td>//cf.geekdo-images.com/images/pic285299.jpg</td>\n",
       "      <td>4</td>\n",
       "      <td>60</td>\n",
       "      <td>12</td>\n",
       "      <td>2</td>\n",
       "      <td>60</td>\n",
       "      <td>Tal der Könige</td>\n",
       "      <td>60</td>\n",
       "      <td>...</td>\n",
       "      <td>NaN</td>\n",
       "      <td>Ancient</td>\n",
       "      <td>NaN</td>\n",
       "      <td>Christian Beierer</td>\n",
       "      <td>NaN</td>\n",
       "      <td>Country: Egypt,Promotional Board Games</td>\n",
       "      <td>Action Point Allowance System,Area Control / A...</td>\n",
       "      <td>KOSMOS</td>\n",
       "      <td>6.60675</td>\n",
       "      <td>314</td>\n",
       "    </tr>\n",
       "    <tr>\n",
       "      <th>4</th>\n",
       "      <td>5</td>\n",
       "      <td>In Acquire, each player strategically invests ...</td>\n",
       "      <td>//cf.geekdo-images.com/images/pic342163.jpg</td>\n",
       "      <td>6</td>\n",
       "      <td>90</td>\n",
       "      <td>12</td>\n",
       "      <td>3</td>\n",
       "      <td>90</td>\n",
       "      <td>Acquire</td>\n",
       "      <td>90</td>\n",
       "      <td>...</td>\n",
       "      <td>Scott Okumura,Peter Whitley</td>\n",
       "      <td>Economic</td>\n",
       "      <td>NaN</td>\n",
       "      <td>Sid Sackson</td>\n",
       "      <td>NaN</td>\n",
       "      <td>3M Bookshelf Series</td>\n",
       "      <td>Hand Management,Stock Holding,Tile Placement</td>\n",
       "      <td>3M,Avalon Hill,Avalon Hill (Hasbro),Dujardin,G...</td>\n",
       "      <td>7.35830</td>\n",
       "      <td>15195</td>\n",
       "    </tr>\n",
       "  </tbody>\n",
       "</table>\n",
       "<p>5 rows × 22 columns</p>\n",
       "</div>"
      ],
      "text/plain": [
       "   game_id                                        description  \\\n",
       "0        1  Die Macher is a game about seven sequential po...   \n",
       "1        2  Dragonmaster is a trick-taking card game based...   \n",
       "2        3  Part of the Knizia tile-laying trilogy, Samura...   \n",
       "3        4  When you see the triangular box and the luxuri...   \n",
       "4        5  In Acquire, each player strategically invests ...   \n",
       "\n",
       "                                          image  max_players  max_playtime  \\\n",
       "0   //cf.geekdo-images.com/images/pic159509.jpg            5           240   \n",
       "1   //cf.geekdo-images.com/images/pic184174.jpg            4            30   \n",
       "2  //cf.geekdo-images.com/images/pic3211873.jpg            4            60   \n",
       "3   //cf.geekdo-images.com/images/pic285299.jpg            4            60   \n",
       "4   //cf.geekdo-images.com/images/pic342163.jpg            6            90   \n",
       "\n",
       "   min_age  min_players  min_playtime            name  playing_time  ...  \\\n",
       "0       14            3           240      Die Macher           240  ...   \n",
       "1       12            3            30    Dragonmaster            30  ...   \n",
       "2       10            2            30         Samurai            60  ...   \n",
       "3       12            2            60  Tal der Könige            60  ...   \n",
       "4       12            3            90         Acquire            90  ...   \n",
       "\n",
       "                        artist                        category compilation  \\\n",
       "0          Marcus Gschwendtner  Economic,Negotiation,Political         NaN   \n",
       "1                   Bob Pepper               Card Game,Fantasy         NaN   \n",
       "2              Franz Vohwinkel      Abstract Strategy,Medieval         NaN   \n",
       "3                          NaN                         Ancient         NaN   \n",
       "4  Scott Okumura,Peter Whitley                        Economic         NaN   \n",
       "\n",
       "                designer expansion  \\\n",
       "0     Karl-Heinz Schmiel       NaN   \n",
       "1  G. W. \"Jerry\" D'Arcey       NaN   \n",
       "2          Reiner Knizia       NaN   \n",
       "3      Christian Beierer       NaN   \n",
       "4            Sid Sackson       NaN   \n",
       "\n",
       "                                              family  \\\n",
       "0         Country: Germany,Valley Games Classic Line   \n",
       "1                                   Animals: Dragons   \n",
       "2  Asian Theme,Country: Japan,Knizia tile-laying ...   \n",
       "3             Country: Egypt,Promotional Board Games   \n",
       "4                                3M Bookshelf Series   \n",
       "\n",
       "                                            mechanic  \\\n",
       "0  Area Control / Area Influence,Auction/Bidding,...   \n",
       "1                                       Trick-taking   \n",
       "2  Area Control / Area Influence,Hand Management,...   \n",
       "3  Action Point Allowance System,Area Control / A...   \n",
       "4       Hand Management,Stock Holding,Tile Placement   \n",
       "\n",
       "                                           publisher average_rating  \\\n",
       "0  Hans im Glück Verlags-GmbH,Moskito Spiele,Vall...        7.66508   \n",
       "1                           E.S. Lowe,Milton Bradley        6.60815   \n",
       "2  999 Games,ABACUSSPIELE,Astrel Games,Ceilikan J...        7.44119   \n",
       "3                                             KOSMOS        6.60675   \n",
       "4  3M,Avalon Hill,Avalon Hill (Hasbro),Dujardin,G...        7.35830   \n",
       "\n",
       "  users_rated  \n",
       "0        4498  \n",
       "1         478  \n",
       "2       12019  \n",
       "3         314  \n",
       "4       15195  \n",
       "\n",
       "[5 rows x 22 columns]"
      ]
     },
     "execution_count": 18,
     "metadata": {},
     "output_type": "execute_result"
    }
   ],
   "source": [
    "#Show data head\n",
    "df.head()"
   ]
  },
  {
   "cell_type": "markdown",
   "id": "dcaf706e",
   "metadata": {},
   "source": [
    "Lets check some information in this dataset"
   ]
  },
  {
   "cell_type": "code",
   "execution_count": 19,
   "id": "1928ab73",
   "metadata": {},
   "outputs": [
    {
     "name": "stdout",
     "output_type": "stream",
     "text": [
      "<class 'pandas.core.frame.DataFrame'>\n",
      "RangeIndex: 10532 entries, 0 to 10531\n",
      "Data columns (total 22 columns):\n",
      " #   Column          Non-Null Count  Dtype  \n",
      "---  ------          --------------  -----  \n",
      " 0   game_id         10532 non-null  int64  \n",
      " 1   description     10532 non-null  object \n",
      " 2   image           10531 non-null  object \n",
      " 3   max_players     10532 non-null  int64  \n",
      " 4   max_playtime    10532 non-null  int64  \n",
      " 5   min_age         10532 non-null  int64  \n",
      " 6   min_players     10532 non-null  int64  \n",
      " 7   min_playtime    10532 non-null  int64  \n",
      " 8   name            10532 non-null  object \n",
      " 9   playing_time    10532 non-null  int64  \n",
      " 10  thumbnail       10531 non-null  object \n",
      " 11  year_published  10532 non-null  int64  \n",
      " 12  artist          7759 non-null   object \n",
      " 13  category        10438 non-null  object \n",
      " 14  compilation     410 non-null    object \n",
      " 15  designer        10406 non-null  object \n",
      " 16  expansion       2752 non-null   object \n",
      " 17  family          7724 non-null   object \n",
      " 18  mechanic        9582 non-null   object \n",
      " 19  publisher       10529 non-null  object \n",
      " 20  average_rating  10532 non-null  float64\n",
      " 21  users_rated     10532 non-null  int64  \n",
      "dtypes: float64(1), int64(9), object(12)\n",
      "memory usage: 1.8+ MB\n"
     ]
    }
   ],
   "source": [
    "#Show details about the dataset\n",
    "df.info()"
   ]
  },
  {
   "cell_type": "markdown",
   "id": "36c3405d",
   "metadata": {},
   "source": [
    "From this output, we can see that the DataFrame has 10532 rows (entries) and 22 columns. The columns have different data types, including int64, float64, and object"
   ]
  },
  {
   "cell_type": "markdown",
   "id": "2b0f2902",
   "metadata": {},
   "source": [
    "Some features detected in data head are not relevant for the purpose of this analyse so they will be deleated, \n",
    "and they also contain NuN values. So for that reasons the follow feautures are going to be deleted: image, \n",
    "thumbnail, artist, compilation, expantion, publisher"
   ]
  },
  {
   "cell_type": "code",
   "execution_count": 20,
   "id": "59740c9c",
   "metadata": {},
   "outputs": [],
   "source": [
    "# Drop columns that are not relevant for the analyse\n",
    "df.drop(['image', 'thumbnail', 'artist', 'compilation', 'designer', 'expansion', 'family', 'publisher'], axis=1, inplace=True)"
   ]
  },
  {
   "cell_type": "markdown",
   "id": "c065c8c5",
   "metadata": {},
   "source": [
    "Checkinh the type of data we have in this dataset"
   ]
  },
  {
   "cell_type": "code",
   "execution_count": 21,
   "id": "01f0a8b4",
   "metadata": {},
   "outputs": [
    {
     "data": {
      "text/plain": [
       "int64      9\n",
       "object     4\n",
       "float64    1\n",
       "dtype: int64"
      ]
     },
     "execution_count": 21,
     "metadata": {},
     "output_type": "execute_result"
    }
   ],
   "source": [
    "#Describe the type of data\n",
    "df.dtypes.value_counts()"
   ]
  },
  {
   "cell_type": "markdown",
   "id": "ed231b93",
   "metadata": {},
   "source": [
    "The dtype shows four features are object: ‘description’, ‘name’, ‘category’ and 'mechanic'. It is more appropriate convert them from an object to a category"
   ]
  },
  {
   "cell_type": "code",
   "execution_count": 22,
   "id": "d696b1cd",
   "metadata": {},
   "outputs": [],
   "source": [
    "# Convert object type for categorical features\n",
    "df['description'] = df['description'].astype('category')\n",
    "df['name'] = df['name'].astype('category')\n",
    "df['category'] = df['category'].astype('category')\n",
    "df['mechanic'] = df['mechanic'].astype('category')"
   ]
  },
  {
   "cell_type": "markdown",
   "id": "c9f0c213",
   "metadata": {},
   "source": [
    "#### Cleaning dataset"
   ]
  },
  {
   "cell_type": "markdown",
   "id": "9fd60e14",
   "metadata": {},
   "source": [
    "I am going to check the mising values in this dataset, once it can cause problem in the analyse, such a biased result, incorrect statistial inferences and error in machine learning models."
   ]
  },
  {
   "cell_type": "code",
   "execution_count": 23,
   "id": "d4ebd434",
   "metadata": {},
   "outputs": [
    {
     "data": {
      "text/plain": [
       "game_id             0\n",
       "description         0\n",
       "max_players         0\n",
       "max_playtime        0\n",
       "min_age             0\n",
       "min_players         0\n",
       "min_playtime        0\n",
       "name                0\n",
       "playing_time        0\n",
       "year_published      0\n",
       "category           94\n",
       "mechanic          950\n",
       "average_rating      0\n",
       "users_rated         0\n",
       "dtype: int64"
      ]
     },
     "execution_count": 23,
     "metadata": {},
     "output_type": "execute_result"
    }
   ],
   "source": [
    "# Check missing values\n",
    "df.isnull().sum()"
   ]
  },
  {
   "cell_type": "markdown",
   "id": "d25f990e",
   "metadata": {},
   "source": [
    "The features 'category' and 'mechanic' have missing values, both are categorical variables "
   ]
  },
  {
   "cell_type": "code",
   "execution_count": 24,
   "id": "077840a4",
   "metadata": {},
   "outputs": [
    {
     "name": "stdout",
     "output_type": "stream",
     "text": [
      "       game_id                                        description  \\\n",
      "23          25  In this fantasy sequel to Twilight Imperium, p...   \n",
      "30          32  In Bison, a.k.a. Buffalo, one player represent...   \n",
      "33          37  This odd little game put out by Games Workshop...   \n",
      "34          38  Runes is a different kind of word game where p...   \n",
      "35          39  Based on the books of Marion Zimmer Bradley th...   \n",
      "...        ...                                                ...   \n",
      "10496   206940  In Carcassonne: Amazonas, players sail their b...   \n",
      "10509   208766  Description from the publisher:&#10;&#10;The c...   \n",
      "10518   209886  Gambling continues in the glamorous world of L...   \n",
      "10520   210342  Timeline: British History is a card game playe...   \n",
      "10523   212382  In Yangtze, players are distributors on the Ya...   \n",
      "\n",
      "       max_players  max_playtime  min_age  min_players  min_playtime  \\\n",
      "23               6           200       12            2           200   \n",
      "30               2            30        8            2            30   \n",
      "33               4           120       12            2           120   \n",
      "34               4            30       10            2            30   \n",
      "35               4            60       12            2            60   \n",
      "...            ...           ...      ...          ...           ...   \n",
      "10496            5            35        8            2            35   \n",
      "10509            6            30        8            2            30   \n",
      "10518            5            30        8            2            15   \n",
      "10520            8            30        8            2            15   \n",
      "10523            4            60        8            2            60   \n",
      "\n",
      "                            name  playing_time  year_published  \\\n",
      "23                    Battlemist           200            1998   \n",
      "30                         Bison            30            1975   \n",
      "33                Dragon Masters           120            1991   \n",
      "34                         Runes            30            1981   \n",
      "35                      Darkover            60            1979   \n",
      "...                          ...           ...             ...   \n",
      "10496      Carcassonne: Amazonas            35            2016   \n",
      "10509                   13 Clues            30            2016   \n",
      "10518   Las Vegas: The Card Game            30            2016   \n",
      "10520  Timeline: British History            30            2016   \n",
      "10523                    Yangtze            60            2016   \n",
      "\n",
      "                              category                        mechanic  \\\n",
      "23         Exploration,Fantasy,Wargame                             NaN   \n",
      "30     Abstract Strategy,American West                             NaN   \n",
      "33                     Fantasy,Wargame                             NaN   \n",
      "34                 Deduction,Word Game                             NaN   \n",
      "35        Bluffing,Fantasy,Novel-based                             NaN   \n",
      "...                                ...                             ...   \n",
      "10496                              NaN                  Tile Placement   \n",
      "10509                        Deduction                             NaN   \n",
      "10518                        Card Game                             NaN   \n",
      "10520                        Card Game                             NaN   \n",
      "10523                              NaN  Auction/Bidding,Set Collection   \n",
      "\n",
      "       average_rating  users_rated  \n",
      "23            5.93231          308  \n",
      "30            6.04137          182  \n",
      "33            5.69731          130  \n",
      "34            6.06707           82  \n",
      "35            5.22865           96  \n",
      "...               ...          ...  \n",
      "10496         7.33095          333  \n",
      "10509         6.77798          109  \n",
      "10518         6.30659           91  \n",
      "10520         6.72545           55  \n",
      "10523         6.71821           56  \n",
      "\n",
      "[1025 rows x 14 columns]\n"
     ]
    }
   ],
   "source": [
    "# Find rows with NaN values\n",
    "rows_null_values = df[df.isnull().any(axis=1)]\n",
    "\n",
    "# Display rows with NaN values\n",
    "print(rows_null_values)"
   ]
  },
  {
   "cell_type": "markdown",
   "id": "108bde75",
   "metadata": {},
   "source": [
    "After analyse the rows with NaN values I decide to keep them and classify these line as special labels. Once the other features from the same line have important data for my analyse"
   ]
  },
  {
   "cell_type": "code",
   "execution_count": 25,
   "id": "c0617e06",
   "metadata": {},
   "outputs": [
    {
     "name": "stdout",
     "output_type": "stream",
     "text": [
      "       game_id                                        description  \\\n",
      "0            1  Die Macher is a game about seven sequential po...   \n",
      "1            2  Dragonmaster is a trick-taking card game based...   \n",
      "2            3  Part of the Knizia tile-laying trilogy, Samura...   \n",
      "3            4  When you see the triangular box and the luxuri...   \n",
      "4            5  In Acquire, each player strategically invests ...   \n",
      "...        ...                                                ...   \n",
      "10527   214996  Description from the publisher:&#10;&#10;Silve...   \n",
      "10528   215437  Codex: Card-Time Strategy is a customizable, n...   \n",
      "10529   215471  Time to walk about town and take some pictures...   \n",
      "10530   216201  The race is on for the robots of the Robo Rall...   \n",
      "10531   216725  The deluxe edition comes in a double tall box ...   \n",
      "\n",
      "       max_players  max_playtime  min_age  min_players  min_playtime  \\\n",
      "0                5           240       14            3           240   \n",
      "1                4            30       12            3            30   \n",
      "2                4            60       10            2            30   \n",
      "3                4            60       12            2            60   \n",
      "4                6            90       12            3            90   \n",
      "...            ...           ...      ...          ...           ...   \n",
      "10527            2           480       12            1            30   \n",
      "10528            5            45       13            2            45   \n",
      "10529            4            20       12            2            20   \n",
      "10530            6           120       12            2            20   \n",
      "10531            5            60       14            1            30   \n",
      "\n",
      "                                                    name  playing_time  \\\n",
      "0                                             Die Macher           240   \n",
      "1                                           Dragonmaster            30   \n",
      "2                                                Samurai            60   \n",
      "3                                         Tal der Könige            60   \n",
      "4                                                Acquire            90   \n",
      "...                                                  ...           ...   \n",
      "10527  Silver Bayonet: The First Team in Vietnam, 196...           480   \n",
      "10528               Codex: Card-Time Strategy – Core Set            45   \n",
      "10529                                     Wind the Film!            20   \n",
      "10530                                  Robo Rally (2016)           120   \n",
      "10531    Villages of Valeria: Deluxe Kickstarter Edition            60   \n",
      "\n",
      "       year_published                                     category  \\\n",
      "0                1986               Economic,Negotiation,Political   \n",
      "1                1981                            Card Game,Fantasy   \n",
      "2                1998                   Abstract Strategy,Medieval   \n",
      "3                1992                                      Ancient   \n",
      "4                1964                                     Economic   \n",
      "...               ...                                          ...   \n",
      "10527            2016                          Vietnam War,Wargame   \n",
      "10528            2016  Card Game,Fantasy,Fighting,Video Game Theme   \n",
      "10529            2016                                    Card Game   \n",
      "10530            2016            Miniatures,Racing,Science Fiction   \n",
      "10531            2016                      Card Game,City Building   \n",
      "\n",
      "                                                mechanic  average_rating  \\\n",
      "0      Area Control / Area Influence,Auction/Bidding,...         7.66508   \n",
      "1                                           Trick-taking         6.60815   \n",
      "2      Area Control / Area Influence,Hand Management,...         7.44119   \n",
      "3      Action Point Allowance System,Area Control / A...         6.60675   \n",
      "4           Hand Management,Stock Holding,Tile Placement         7.35830   \n",
      "...                                                  ...             ...   \n",
      "10527                                    Hex-and-Counter         8.35333   \n",
      "10528  Deck / Pool Building,Hand Management,Variable ...         8.08780   \n",
      "10529                     Hand Management,Set Collection         7.28016   \n",
      "10530  Action / Movement Programming,Grid Movement,Mo...         7.45871   \n",
      "10531                      Card Drafting,Hand Management         7.52941   \n",
      "\n",
      "       users_rated  \n",
      "0             4498  \n",
      "1              478  \n",
      "2            12019  \n",
      "3              314  \n",
      "4            15195  \n",
      "...            ...  \n",
      "10527           75  \n",
      "10528           82  \n",
      "10529           63  \n",
      "10530          341  \n",
      "10531          119  \n",
      "\n",
      "[10532 rows x 14 columns]\n"
     ]
    }
   ],
   "source": [
    "# Specify the special label for NaN values\n",
    "special_label = 'Special_Label'  # You can choose any label you prefer\n",
    "special_label1 = 'Special_Label1'\n",
    "\n",
    "# Add the special label as a new category\n",
    "df['category'] = df['category'].cat.add_categories(special_label)\n",
    "df['mechanic'] = df['mechanic'].cat.add_categories(special_label1)\n",
    "\n",
    "# Replace NaN values with the special label\n",
    "df['category'].fillna(special_label, inplace=True)\n",
    "df['mechanic'].fillna(special_label1, inplace=True)\n",
    "\n",
    "# Display the updated DataFrame\n",
    "print(df)"
   ]
  }
 ],
 "metadata": {
  "kernelspec": {
   "display_name": "Python 3 (ipykernel)",
   "language": "python",
   "name": "python3"
  },
  "language_info": {
   "codemirror_mode": {
    "name": "ipython",
    "version": 3
   },
   "file_extension": ".py",
   "mimetype": "text/x-python",
   "name": "python",
   "nbconvert_exporter": "python",
   "pygments_lexer": "ipython3",
   "version": "3.9.13"
  }
 },
 "nbformat": 4,
 "nbformat_minor": 5
}
